{
 "cells": [
  {
   "cell_type": "code",
   "execution_count": 11,
   "id": "d6dd1e9f-8a30-48eb-b70f-3aa82b77966d",
   "metadata": {},
   "outputs": [],
   "source": [
    "a = 10"
   ]
  },
  {
   "cell_type": "code",
   "execution_count": 29,
   "id": "f13041d7-4423-4037-b527-6f322ec8c37f",
   "metadata": {},
   "outputs": [
    {
     "name": "stdout",
     "output_type": "stream",
     "text": [
      "my name is vinay\n"
     ]
    }
   ],
   "source": [
    "if a < 15:\n",
    "    print(\"my name is vinay\")"
   ]
  },
  {
   "cell_type": "code",
   "execution_count": 15,
   "id": "f22bd32a-e24f-4f73-b562-88ea63940202",
   "metadata": {},
   "outputs": [
    {
     "data": {
      "text/plain": [
       "True"
      ]
     },
     "execution_count": 15,
     "metadata": {},
     "output_type": "execute_result"
    }
   ],
   "source": [
    "a < 15 "
   ]
  },
  {
   "cell_type": "code",
   "execution_count": 17,
   "id": "01c064aa-ab0c-43d2-bd1d-152e94ceb814",
   "metadata": {},
   "outputs": [
    {
     "data": {
      "text/plain": [
       "False"
      ]
     },
     "execution_count": 17,
     "metadata": {},
     "output_type": "execute_result"
    }
   ],
   "source": [
    "a>15"
   ]
  },
  {
   "cell_type": "code",
   "execution_count": 31,
   "id": "386c80e4-ad82-4742-907c-217e6254a738",
   "metadata": {},
   "outputs": [],
   "source": [
    "if a < 15:\n",
    "    pass"
   ]
  },
  {
   "cell_type": "code",
   "execution_count": 33,
   "id": "e2607f2d-26ab-4d6f-b477-c4ceb3906145",
   "metadata": {},
   "outputs": [
    {
     "name": "stdout",
     "output_type": "stream",
     "text": [
      "my name is vinay\n"
     ]
    }
   ],
   "source": [
    "if a < 15:\n",
    "    \n",
    "    print (\"my name is vinay\")"
   ]
  },
  {
   "cell_type": "code",
   "execution_count": 35,
   "id": "e0f9bc0d-0064-42d3-81a4-e44a9f98c01f",
   "metadata": {},
   "outputs": [],
   "source": [
    "if 24 < 15:\n",
    "    print (\"my name is vinay\")"
   ]
  },
  {
   "cell_type": "code",
   "execution_count": 39,
   "id": "b82b05c3-9c59-4df2-838d-bc8626d8ac8e",
   "metadata": {},
   "outputs": [
    {
     "data": {
      "text/plain": [
       "False"
      ]
     },
     "execution_count": 39,
     "metadata": {},
     "output_type": "execute_result"
    }
   ],
   "source": [
    " 24 < 15"
   ]
  },
  {
   "cell_type": "code",
   "execution_count": 41,
   "id": "ab5a8b1f-966a-4e7a-9bef-04eac5fef630",
   "metadata": {},
   "outputs": [
    {
     "name": "stdout",
     "output_type": "stream",
     "text": [
      "if statement is wrong\n"
     ]
    }
   ],
   "source": [
    "if 10 < 3  :\n",
    "     print (\" 10 is less than 3\")\n",
    "else:\n",
    "    print(\"if statement is wrong\")\n"
   ]
  },
  {
   "cell_type": "code",
   "execution_count": 45,
   "id": "9e7cca2c-2705-4cf3-b932-c90658bb4319",
   "metadata": {},
   "outputs": [
    {
     "name": "stdout",
     "output_type": "stream",
     "text": [
      " 5 is less than 10\n"
     ]
    }
   ],
   "source": [
    "if 5 < 10  :\n",
    "     print (\" 5 is less than 10\")\n",
    "else:\n",
    "    print(\"if statement is wrong\")\n"
   ]
  },
  {
   "cell_type": "code",
   "execution_count": 47,
   "id": "81287450-aae4-4e33-bde3-e97c05aabcfe",
   "metadata": {},
   "outputs": [
    {
     "name": "stdout",
     "output_type": "stream",
     "text": [
      "i wont be able to buy anything\n"
     ]
    }
   ],
   "source": [
    "income = 100\n",
    "if income < 50:\n",
    "    print(\" i will be able to buy phone\")\n",
    "elif income  < 70:\n",
    "    print (\" i will be able to buy car\")\n",
    "elif income < 90:\n",
    "    print(\"i will be able to rent a house\")\n",
    "else:\n",
    "    print(\"i wont be able to buy anything\")"
   ]
  },
  {
   "cell_type": "code",
   "execution_count": 1,
   "id": "9d27105c-ac48-4812-a2e7-5d9de8bb2506",
   "metadata": {},
   "outputs": [
    {
     "name": "stdin",
     "output_type": "stream",
     "text": [
      " 10\n"
     ]
    },
    {
     "name": "stdout",
     "output_type": "stream",
     "text": [
      " i will be able to buy phone\n"
     ]
    }
   ],
   "source": [
    "income = int(input())\n",
    "if income < 50:\n",
    "    print(\" i will be able to buy phone\")\n",
    "elif income  < 70:\n",
    "    print (\" i will be able to buy car\")\n",
    "elif income < 90:\n",
    "    print(\"i will be able to rent a house\")\n",
    "else:\n",
    "    print(\"i wont be able to buy anything\")\n",
    "    "
   ]
  },
  {
   "cell_type": "code",
   "execution_count": 9,
   "id": "f339a2ae-3e09-4971-97d7-73850206d309",
   "metadata": {},
   "outputs": [
    {
     "name": "stdin",
     "output_type": "stream",
     "text": [
      " 10000\n"
     ]
    },
    {
     "ename": "NameError",
     "evalue": "name 'total_price' is not defined",
     "output_type": "error",
     "traceback": [
      "\u001b[0;31m---------------------------------------------------------------------------\u001b[0m",
      "\u001b[0;31mNameError\u001b[0m                                 Traceback (most recent call last)",
      "Cell \u001b[0;32mIn[9], line 5\u001b[0m\n\u001b[1;32m      3\u001b[0m     discount \u001b[38;5;241m=\u001b[39m Total_price \u001b[38;5;241m*\u001b[39m \u001b[38;5;241m.20\u001b[39m \n\u001b[1;32m      4\u001b[0m     \u001b[38;5;28mprint\u001b[39m (\u001b[38;5;124m\"\u001b[39m\u001b[38;5;124mDiscount will be\u001b[39m\u001b[38;5;124m\"\u001b[39m, discount)\n\u001b[0;32m----> 5\u001b[0m \u001b[38;5;28;01melif\u001b[39;00m total_price \u001b[38;5;241m<\u001b[39m\u001b[38;5;241m=\u001b[39m \u001b[38;5;241m7000\u001b[39m:\n\u001b[1;32m      6\u001b[0m     discount \u001b[38;5;241m=\u001b[39m total_price \u001b[38;5;241m*\u001b[39m \u001b[38;5;241m.05\u001b[39m\n\u001b[1;32m      7\u001b[0m \u001b[38;5;28;01melse\u001b[39;00m:\n",
      "\u001b[0;31mNameError\u001b[0m: name 'total_price' is not defined"
     ]
    }
   ],
   "source": [
    "Total_price = int(input())\n",
    "if Total_price  > 20000:\n",
    "    discount = Total_price * .20 \n",
    "    print (\"Discount will be\", discount)\n",
    "elif total_price <= 7000:\n",
    "    discount = total_price * .05\n",
    "else:\n",
    "    print (\"wont be able to give any discount\")"
   ]
  },
  {
   "cell_type": "code",
   "execution_count": 15,
   "id": "539043db-ce7d-4c73-894d-3402aff9a60a",
   "metadata": {},
   "outputs": [
    {
     "name": "stdin",
     "output_type": "stream",
     "text": [
      " 4565\n"
     ]
    },
    {
     "name": "stdout",
     "output_type": "stream",
     "text": [
      "Discount will be 228.25\n"
     ]
    }
   ],
   "source": [
    "total_price = int(input())\n",
    "if total_price  > 20000:\n",
    "    discount = total_price * .20 \n",
    "    print (\"Discount will be\", discount)\n",
    "elif total_price <= 7000:\n",
    "    discount = total_price * .05\n",
    "    print (\"Discount will be\", discount)\n",
    "else:\n",
    "    print (\"wont be able to give any discount\")"
   ]
  },
  {
   "cell_type": "code",
   "execution_count": 19,
   "id": "419f045a-ff70-4c95-af77-fd5751971f12",
   "metadata": {},
   "outputs": [
    {
     "name": "stdout",
     "output_type": "stream",
     "text": [
      "you will be able to get a discount of 5%\n",
      "you will be get one nuron with this amount 6726.0\n"
     ]
    }
   ],
   "source": [
    "coup = \"VINAY10\"\n",
    "if coup == \"VINAY10\":\n",
    "    print(\"you will be able to get a discount of 5%\")\n",
    "    paid_amount = 7080 - 7080*.05\n",
    "    print (\"you will be get one nuron with this amount\" , paid_amount)\n",
    "else:\n",
    "    print(\"kinldy use a vlid coupan code\")"
   ]
  },
  {
   "cell_type": "code",
   "execution_count": 25,
   "id": "b4062445-5d61-484a-8431-a00900248b1e",
   "metadata": {},
   "outputs": [
    {
     "name": "stdin",
     "output_type": "stream",
     "text": [
      " asdf\n"
     ]
    },
    {
     "name": "stdout",
     "output_type": "stream",
     "text": [
      "kinldy use a valid coupan code\n"
     ]
    }
   ],
   "source": [
    "coup = input()\n",
    "if coup == \"VINAY10\":\n",
    "    print(\"you will be able to get a discount of 5%\")\n",
    "    paid_amount = 7080 - 7080*.05\n",
    "    print (\"you will be get one neuron with this amount\" , paid_amount)\n",
    "else:\n",
    "    print(\"kinldy use a valid coupan code\")"
   ]
  },
  {
   "cell_type": "code",
   "execution_count": 27,
   "id": "27c5826b-cc05-4743-b0e7-f53510a2198a",
   "metadata": {},
   "outputs": [
    {
     "name": "stdin",
     "output_type": "stream",
     "text": [
      " VINAY10\n"
     ]
    },
    {
     "name": "stdout",
     "output_type": "stream",
     "text": [
      "you will be able to get a discount of 5%\n",
      "you will be get one neuron with this amount 6726.0\n"
     ]
    }
   ],
   "source": [
    "coup = input()\n",
    "if coup == \"VINAY10\":\n",
    "    print(\"you will be able to get a discount of 5%\")\n",
    "    paid_amount = 7080 - 7080*.05\n",
    "    print (\"you will be get one neuron with this amount\" , paid_amount)\n",
    "else:\n",
    "    print(\"kinldy use a valid coupan code\")"
   ]
  },
  {
   "cell_type": "code",
   "execution_count": 29,
   "id": "1e887aea-ba4c-4429-8cbf-a17a3111de35",
   "metadata": {},
   "outputs": [
    {
     "data": {
      "text/plain": [
       "True"
      ]
     },
     "execution_count": 29,
     "metadata": {},
     "output_type": "execute_result"
    }
   ],
   "source": [
    "\"vinay\" == \"vinay\""
   ]
  },
  {
   "cell_type": "code",
   "execution_count": 35,
   "id": "7b88b2ef-e87a-44a4-9c2a-26d2359340ef",
   "metadata": {},
   "outputs": [
    {
     "name": "stdin",
     "output_type": "stream",
     "text": [
      " 2\n"
     ]
    },
    {
     "name": "stdout",
     "output_type": "stream",
     "text": [
      "it may take 6 months of time to make a transition\n"
     ]
    }
   ],
   "source": [
    "study_hour = int(input())\n",
    "if study_hour < 1:\n",
    "    print(\"it may take 8-9 months of time to make a transition\")\n",
    "elif study_hour < 4 and study_hour > 1:\n",
    "    print(\"it may take 6 months of time to make a transition\")\n",
    "elif study_hour > 10:\n",
    "    print(\"it will take 3 month of time for transition\")\n",
    "else:\n",
    "    print(\"it will be difficult\")\n"
   ]
  },
  {
   "cell_type": "code",
   "execution_count": 37,
   "id": "990dc072-cfa2-4fc1-933a-0e78349c437f",
   "metadata": {},
   "outputs": [
    {
     "name": "stdin",
     "output_type": "stream",
     "text": [
      " 2\n"
     ]
    },
    {
     "name": "stdout",
     "output_type": "stream",
     "text": [
      "it may take 6 months of time to make a transition\n"
     ]
    }
   ],
   "source": [
    "study_hour = int(input())\n",
    "if study_hour < 1:\n",
    "    print(\"it may take 8-9 months of time to make a transition\")\n",
    "elif study_hour < 4 or study_hour > 1:\n",
    "    print(\"it may take 6 months of time to make a transition\")\n",
    "elif study_hour > 10:\n",
    "    print(\"it will take 3 month of time for transition\")\n",
    "else:\n",
    "    print(\"it will be difficult\")\n"
   ]
  },
  {
   "cell_type": "code",
   "execution_count": 41,
   "id": "10c5d263-03d5-478a-8829-66e58f4bb3b0",
   "metadata": {},
   "outputs": [
    {
     "name": "stdout",
     "output_type": "stream",
     "text": [
      "valid\n"
     ]
    }
   ],
   "source": [
    "a = 9\n",
    "if a == 9 : \n",
    "    print(\"valid\")"
   ]
  },
  {
   "cell_type": "code",
   "execution_count": 51,
   "id": "1f688eff-44a9-4289-8919-c63bef8527d5",
   "metadata": {},
   "outputs": [
    {
     "name": "stdin",
     "output_type": "stream",
     "text": [
      "enter a string to start oneneuron\n",
      "enter a course name abcd\n",
      "enter a service zasdf\n"
     ]
    },
    {
     "name": "stdout",
     "output_type": "stream",
     "text": [
      "this is not available kindly raise a demand\n"
     ]
    }
   ],
   "source": [
    "s = input(\"enter a string to start\")\n",
    "course = input(\"enter a course name\")\n",
    "service = input(\"enter a service\")\n",
    "if s == \"oneneuron\":\n",
    "    if course == \"DSA\":\n",
    "        print(\"yes it is available under one neuron and in multiple mode for job preparation and core concepts\")\n",
    "    elif course == \"Blockchain\":\n",
    "        print(\"this is not available as of now, kinldy raise raise a demand and we willl fulfill in 60 days\")\n",
    "    elif course == \"FSDS\":\n",
    "        print(\" yes it is available, you can start learning\")\n",
    "    else: \n",
    "        print(\"this is not available kindly raise a demand\")\n",
    "elif s ==\" oneneuronservice\":\n",
    "    if service == \"courserequest\":\n",
    "        print(\"fulfilling in next 60 days\")\n",
    "    elif service ==\"module\":\n",
    "        print(\"fulfilling in 30 days\")\n",
    "    elif service ==\" doubt\":\n",
    "        print (\"fulfilling in 24hrs\")\n",
    "    elif service == \"workwithus\":\n",
    "        print (\"fulfilling in 24hrs\")\n",
    "    else :\n",
    "        print  (\"provide feedback\")\n",
    "else:\n",
    "    print (\" kindly connect with team\")\n",
    "\n"
   ]
  },
  {
   "cell_type": "code",
   "execution_count": 63,
   "id": "c44dad00-d7e0-40e5-b06b-f9ae552330fe",
   "metadata": {},
   "outputs": [
    {
     "name": "stdin",
     "output_type": "stream",
     "text": [
      "enter a string to start oneneuron\n",
      "enter a course name Blockchain\n",
      "enter a service courserequest\n"
     ]
    },
    {
     "name": "stdout",
     "output_type": "stream",
     "text": [
      "this is not available as of now, kinldy raise raise a demand and we willl fulfill in 60 days\n"
     ]
    }
   ],
   "source": [
    "s = input(\"enter a string to start\")\n",
    "course = input(\"enter a course name\")\n",
    "service = input(\"enter a service\")\n",
    "if s == \"oneneuron\":\n",
    "    if course == \"DSA\":\n",
    "        print(\"yes it is available under one neuron and in multiple mode for job preparation and core concepts\")\n",
    "    elif course == \"Blockchain\":\n",
    "        print(\"this is not available as of now, kinldy raise raise a demand and we willl fulfill in 60 days\")\n",
    "    elif course == \"FSDS\":\n",
    "        print(\" yes it is available, you can start learning\")\n",
    "    else: \n",
    "        print(\"this is not available kindly raise a demand\")\n",
    "elif s ==\" oneneuronservice\":\n",
    "    if service == \"courserequest\":\n",
    "        print(\"fulfilling in next 60 days\")\n",
    "    elif service ==\"module\":\n",
    "        print(\"fulfilling in 30 days\")\n",
    "    elif service ==\" doubt\":\n",
    "        print (\"fulfilling in 24hrs\")\n",
    "    elif service == \"workwithus\":\n",
    "        print (\"fulfilling in 24hrs\")\n",
    "    else :\n",
    "        print  (\"provide feedback\")\n",
    "else:\n",
    "    print (\" kindly connect with team\")\n",
    "\n"
   ]
  },
  {
   "cell_type": "code",
   "execution_count": 65,
   "id": "e820bc8c-885c-4c77-92bd-f869ef72f4ad",
   "metadata": {},
   "outputs": [
    {
     "name": "stdout",
     "output_type": "stream",
     "text": [
      "1\n",
      "2\n",
      "3\n",
      "4\n",
      "5\n",
      "6\n",
      "7\n"
     ]
    }
   ],
   "source": [
    "l = [1,2,3,4,5,6,7]\n",
    "for i in l:\n",
    "    print(i)"
   ]
  },
  {
   "cell_type": "code",
   "execution_count": 67,
   "id": "7b8fbf0c-50b8-400a-9d4e-25f7431ce60f",
   "metadata": {},
   "outputs": [
    {
     "name": "stdout",
     "output_type": "stream",
     "text": [
      "s\n",
      "u\n",
      "d\n",
      "h\n"
     ]
    }
   ],
   "source": [
    "s = \"sudh\"\n",
    "for i in s:\n",
    "    print(i)"
   ]
  },
  {
   "cell_type": "code",
   "execution_count": 69,
   "id": "f45c2bc0-15b7-4589-bf1d-44bc45fbc69e",
   "metadata": {},
   "outputs": [
    {
     "name": "stdout",
     "output_type": "stream",
     "text": [
      "v\n",
      "i\n",
      "n\n",
      "a\n",
      "y\n"
     ]
    }
   ],
   "source": [
    "for i in \"vinay\":\n",
    "    print(i)"
   ]
  },
  {
   "cell_type": "code",
   "execution_count": 75,
   "id": "deadce27-b800-4d60-8d61-24d42900f2e3",
   "metadata": {},
   "outputs": [],
   "source": [
    "t = (1,2,3,4,5,6)"
   ]
  },
  {
   "cell_type": "code",
   "execution_count": 83,
   "id": "4f146135-af6c-450b-8e59-0e5df8e907bf",
   "metadata": {},
   "outputs": [
    {
     "name": "stdout",
     "output_type": "stream",
     "text": [
      "1\n",
      "2\n",
      "3\n",
      "4\n",
      "5\n",
      "6\n"
     ]
    }
   ],
   "source": [
    "for i in t:\n",
    "    print (i)\n"
   ]
  },
  {
   "cell_type": "code",
   "execution_count": 93,
   "id": "2c27d014-ae9c-4e17-9f12-77bc93561df9",
   "metadata": {},
   "outputs": [],
   "source": [
    "l = [1,4,5.6, 4+1j, \"vinay\"]"
   ]
  },
  {
   "cell_type": "code",
   "execution_count": 97,
   "id": "031fb8c9-057f-45be-9c44-ee6c2bca48e8",
   "metadata": {},
   "outputs": [
    {
     "data": {
      "text/plain": [
       "int"
      ]
     },
     "execution_count": 97,
     "metadata": {},
     "output_type": "execute_result"
    }
   ],
   "source": [
    "type(l[0])"
   ]
  },
  {
   "cell_type": "code",
   "execution_count": 99,
   "id": "6ad7b426-d2eb-4173-b759-a61ff127aa15",
   "metadata": {},
   "outputs": [
    {
     "data": {
      "text/plain": [
       "int"
      ]
     },
     "execution_count": 99,
     "metadata": {},
     "output_type": "execute_result"
    }
   ],
   "source": [
    "type(l[1])"
   ]
  },
  {
   "cell_type": "code",
   "execution_count": 101,
   "id": "943acd53-80fc-4923-a219-e63fe3c9c02e",
   "metadata": {},
   "outputs": [
    {
     "data": {
      "text/plain": [
       "float"
      ]
     },
     "execution_count": 101,
     "metadata": {},
     "output_type": "execute_result"
    }
   ],
   "source": [
    "type(l[2])"
   ]
  },
  {
   "cell_type": "code",
   "execution_count": 103,
   "id": "cca6f982-8ef9-4e9e-b536-d4751e91ffd8",
   "metadata": {},
   "outputs": [
    {
     "data": {
      "text/plain": [
       "complex"
      ]
     },
     "execution_count": 103,
     "metadata": {},
     "output_type": "execute_result"
    }
   ],
   "source": [
    "type(l[3])"
   ]
  },
  {
   "cell_type": "code",
   "execution_count": 105,
   "id": "debafbdd-cb00-4621-8a8a-f2be47dd2960",
   "metadata": {},
   "outputs": [
    {
     "data": {
      "text/plain": [
       "str"
      ]
     },
     "execution_count": 105,
     "metadata": {},
     "output_type": "execute_result"
    }
   ],
   "source": [
    "type(l[4])"
   ]
  },
  {
   "cell_type": "code",
   "execution_count": 111,
   "id": "76534867-04a1-4538-8314-8bd15f01e354",
   "metadata": {},
   "outputs": [
    {
     "name": "stdout",
     "output_type": "stream",
     "text": [
      "<class 'int'>\n",
      "<class 'int'>\n",
      "<class 'float'>\n",
      "<class 'complex'>\n",
      "<class 'str'>\n"
     ]
    }
   ],
   "source": [
    "for i in l :\n",
    "    print(type(i))"
   ]
  },
  {
   "cell_type": "code",
   "execution_count": 117,
   "id": "a96c4d37-5526-4b83-b9e0-a4966cfc5f4f",
   "metadata": {},
   "outputs": [
    {
     "name": "stdout",
     "output_type": "stream",
     "text": [
      "<class 'int'> type of 1\n",
      "<class 'int'> type of 4\n",
      "<class 'float'> type of 5.6\n",
      "<class 'complex'> type of (4+1j)\n",
      "<class 'str'> type of vinay\n"
     ]
    }
   ],
   "source": [
    "for i in l :\n",
    "    print(type(i), \"type of\", i)"
   ]
  },
  {
   "cell_type": "code",
   "execution_count": 119,
   "id": "c10f34c8-f34e-4676-84c5-d97384425dec",
   "metadata": {},
   "outputs": [
    {
     "name": "stdout",
     "output_type": "stream",
     "text": [
      "3\n",
      "6\n",
      "7.6\n"
     ]
    }
   ],
   "source": [
    "l = [1,4,5.6]\n",
    "for i in l:\n",
    "    print (i+2)"
   ]
  },
  {
   "cell_type": "code",
   "execution_count": 123,
   "id": "f68ac704-7099-4ad2-b351-5fd37bf24f53",
   "metadata": {},
   "outputs": [
    {
     "name": "stdout",
     "output_type": "stream",
     "text": [
      "3\n",
      "6\n",
      "7.6\n"
     ]
    }
   ],
   "source": [
    "l = [1,4,5.6]\n",
    "l1= []\n",
    "for i in l:\n",
    "    print (i+2)\n",
    "    l1.append(i+2)"
   ]
  },
  {
   "cell_type": "code",
   "execution_count": 125,
   "id": "cae0d694-602c-405d-bfa9-d623dc4bf1c5",
   "metadata": {},
   "outputs": [
    {
     "data": {
      "text/plain": [
       "[3, 6, 7.6]"
      ]
     },
     "execution_count": 125,
     "metadata": {},
     "output_type": "execute_result"
    }
   ],
   "source": [
    "l1\n"
   ]
  },
  {
   "cell_type": "code",
   "execution_count": 159,
   "id": "63e525fb-6adc-4d8b-afe0-71d711ed5e04",
   "metadata": {},
   "outputs": [],
   "source": [
    "l = [2,45,78,12,\"vinay\", 6+7j, [22,44, \"vinay\"]]"
   ]
  },
  {
   "cell_type": "code",
   "execution_count": 147,
   "id": "6137ea6a-6417-4d00-ad1d-61bde749351f",
   "metadata": {},
   "outputs": [
    {
     "name": "stdout",
     "output_type": "stream",
     "text": [
      "2\n",
      "45\n",
      "78\n",
      "12\n"
     ]
    }
   ],
   "source": [
    "for i in l:\n",
    "    if type(i) == int:\n",
    "        print (i)"
   ]
  },
  {
   "cell_type": "code",
   "execution_count": 163,
   "id": "9e017fa9-429b-4d13-a75b-078ea1cf641e",
   "metadata": {},
   "outputs": [
    {
     "name": "stdout",
     "output_type": "stream",
     "text": [
      "2\n",
      "45\n",
      "78\n",
      "12\n",
      "22\n",
      "44\n"
     ]
    }
   ],
   "source": [
    "for i in l:\n",
    "    if type(i) == int:\n",
    "        print (i)\n",
    "    elif type(i) == list:\n",
    "        for j in i:\n",
    "            if type(j) == int:\n",
    "                print (j)"
   ]
  },
  {
   "cell_type": "code",
   "execution_count": 191,
   "id": "f07b443e-9fdf-4591-ac49-227b307b4ad5",
   "metadata": {},
   "outputs": [],
   "source": [
    "l = [2,45,78,12,\"vinay\", 6+7j, [22,44, \"vinay\"]]"
   ]
  },
  {
   "cell_type": "code",
   "execution_count": 167,
   "id": "21d4f15f-de5f-49d3-a20c-e279775d63f9",
   "metadata": {},
   "outputs": [
    {
     "name": "stdout",
     "output_type": "stream",
     "text": [
      "4\n",
      "2025\n",
      "6084\n",
      "144\n",
      "484\n",
      "1936\n"
     ]
    }
   ],
   "source": [
    "for i in l:\n",
    "    if type(i) == int:\n",
    "        print (i*i)\n",
    "    elif type(i) == list:\n",
    "        for j in i:\n",
    "            if type(j) == int:\n",
    "                print (j*j)"
   ]
  },
  {
   "cell_type": "code",
   "execution_count": 185,
   "id": "3a6b78af-3b16-4d29-88ca-377e0e98ec12",
   "metadata": {},
   "outputs": [
    {
     "data": {
      "text/plain": [
       "range(0, 5)"
      ]
     },
     "execution_count": 185,
     "metadata": {},
     "output_type": "execute_result"
    }
   ],
   "source": [
    "range(5)"
   ]
  },
  {
   "cell_type": "code",
   "execution_count": 195,
   "id": "a5332f4d-5726-4cee-a9e8-261348744792",
   "metadata": {},
   "outputs": [
    {
     "data": {
      "text/plain": [
       "7"
      ]
     },
     "execution_count": 195,
     "metadata": {},
     "output_type": "execute_result"
    }
   ],
   "source": [
    "len(l)"
   ]
  },
  {
   "cell_type": "code",
   "execution_count": 197,
   "id": "8dadc53c-9a8a-4212-ac4d-7fac03772c4c",
   "metadata": {},
   "outputs": [
    {
     "name": "stdout",
     "output_type": "stream",
     "text": [
      "index 0 for an element 2\n",
      "index 1 for an element 45\n",
      "index 2 for an element 78\n",
      "index 3 for an element 12\n",
      "index 4 for an element vinay\n",
      "index 5 for an element (6+7j)\n",
      "index 6 for an element [22, 44, 'vinay']\n"
     ]
    }
   ],
   "source": [
    "for i in range(len(l)):\n",
    "    print(\"index\", i , \"for an element\" , l[i])"
   ]
  },
  {
   "cell_type": "code",
   "execution_count": 199,
   "id": "c0ffd3e9-22f5-4773-bebc-c19ab55dbe93",
   "metadata": {},
   "outputs": [
    {
     "data": {
      "text/plain": [
       "[2, 45, 78, 12, 'vinay', (6+7j), [22, 44, 'vinay']]"
      ]
     },
     "execution_count": 199,
     "metadata": {},
     "output_type": "execute_result"
    }
   ],
   "source": [
    "l"
   ]
  },
  {
   "cell_type": "code",
   "execution_count": 201,
   "id": "aa126cc3-d177-4e36-81ed-91e6198e8a74",
   "metadata": {},
   "outputs": [
    {
     "name": "stdout",
     "output_type": "stream",
     "text": [
      "(0, 2)\n",
      "(1, 45)\n",
      "(2, 78)\n",
      "(3, 12)\n",
      "(4, 'vinay')\n",
      "(5, (6+7j))\n",
      "(6, [22, 44, 'vinay'])\n"
     ]
    }
   ],
   "source": [
    "for i in enumerate(l):\n",
    "    print(i)"
   ]
  },
  {
   "cell_type": "code",
   "execution_count": 203,
   "id": "3d321389-39b6-4831-927a-5260afbda5da",
   "metadata": {},
   "outputs": [
    {
     "name": "stdout",
     "output_type": "stream",
     "text": [
      "0 2\n",
      "1 45\n",
      "2 78\n",
      "3 12\n",
      "4 vinay\n",
      "5 (6+7j)\n",
      "6 [22, 44, 'vinay']\n"
     ]
    }
   ],
   "source": [
    "for i, j in enumerate(l):\n",
    "    print(i, j)"
   ]
  },
  {
   "cell_type": "code",
   "execution_count": 207,
   "id": "e4bb9c8a-0838-460d-b922-b2cedf029637",
   "metadata": {},
   "outputs": [],
   "source": [
    " for i in l:\n",
    "    if type(i) == \"char\":\n",
    "        print (i*i)\n",
    "    elif type(i) == list:\n",
    "        for j in i:\n",
    "            if type(j) == \"char\":\n",
    "                print (j*j)"
   ]
  },
  {
   "cell_type": "code",
   "execution_count": 217,
   "id": "ac936ffd-ac39-45ad-89a9-87ab2a2decc2",
   "metadata": {},
   "outputs": [
    {
     "data": {
      "text/plain": [
       "[2, 45, 78, 12, 'vinay', (6+7j), [22, 44, 'vinay']]"
      ]
     },
     "execution_count": 217,
     "metadata": {},
     "output_type": "execute_result"
    }
   ],
   "source": [
    "l"
   ]
  },
  {
   "cell_type": "code",
   "execution_count": 221,
   "id": "f977f303-6b3c-4bb9-9fc8-7bb80b731959",
   "metadata": {},
   "outputs": [
    {
     "name": "stdout",
     "output_type": "stream",
     "text": [
      "['v']\n",
      "['v', 'i']\n",
      "['v', 'i', 'n']\n",
      "['v', 'i', 'n', 'a']\n",
      "['v', 'i', 'n', 'a', 'y']\n"
     ]
    }
   ],
   "source": [
    "for i in l:\n",
    "    if type(i) == str:\n",
    "        l1 = []\n",
    "        for j in i:\n",
    "            l1.append(j)\n",
    "            print(l1)\n",
    "   \n",
    "\n",
    "        "
   ]
  },
  {
   "cell_type": "code",
   "execution_count": 223,
   "id": "a8c7255f-9960-49c2-a902-1c3704a0f4b8",
   "metadata": {},
   "outputs": [],
   "source": [
    "l = [2,45,78,12,\"vinay\",\"bg\", 6+7j, [22,44, \"vinay\"]]"
   ]
  },
  {
   "cell_type": "code",
   "execution_count": 229,
   "id": "b16cb6ba-4fa2-4341-b286-137b5c948216",
   "metadata": {},
   "outputs": [
    {
     "name": "stdout",
     "output_type": "stream",
     "text": [
      "['v']\n",
      "['v', 'i']\n",
      "['v', 'i', 'n']\n",
      "['v', 'i', 'n', 'a']\n",
      "['v', 'i', 'n', 'a', 'y']\n",
      "['b']\n",
      "['b', 'g']\n"
     ]
    }
   ],
   "source": [
    "for i in l:\n",
    "    if type(i) == str:\n",
    "        l1 = []\n",
    "        for j in i:\n",
    "            l1.append(j)\n",
    "            print(l1) "
   ]
  },
  {
   "cell_type": "code",
   "execution_count": 231,
   "id": "153b575c-0254-4151-b343-ec90f8b58e48",
   "metadata": {},
   "outputs": [],
   "source": [
    "l = [2,45,78,12,\"vinay\",\"bg\", 6+7j, [22,44, \"vinay\"]]"
   ]
  },
  {
   "cell_type": "code",
   "execution_count": 241,
   "id": "5f5955a0-e956-492a-b05a-2258bf361cf4",
   "metadata": {},
   "outputs": [],
   "source": [
    "l2 = []\n",
    "for i in l:\n",
    "    if type(i) ==int:\n",
    "        l2.append(i**2)"
   ]
  },
  {
   "cell_type": "code",
   "execution_count": 243,
   "id": "cd9d7330-8873-40d5-a7a5-c6b07b9677f9",
   "metadata": {},
   "outputs": [
    {
     "data": {
      "text/plain": [
       "[4, 2025, 6084, 144]"
      ]
     },
     "execution_count": 243,
     "metadata": {},
     "output_type": "execute_result"
    }
   ],
   "source": [
    "l2"
   ]
  }
 ],
 "metadata": {
  "kernelspec": {
   "display_name": "Python [conda env:base] *",
   "language": "python",
   "name": "conda-base-py"
  },
  "language_info": {
   "codemirror_mode": {
    "name": "ipython",
    "version": 3
   },
   "file_extension": ".py",
   "mimetype": "text/x-python",
   "name": "python",
   "nbconvert_exporter": "python",
   "pygments_lexer": "ipython3",
   "version": "3.12.7"
  }
 },
 "nbformat": 4,
 "nbformat_minor": 5
}
