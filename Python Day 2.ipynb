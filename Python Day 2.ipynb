{
 "cells": [
  {
   "cell_type": "code",
   "execution_count": 1,
   "id": "880a4427-aa99-4126-a175-ba66f46daa84",
   "metadata": {},
   "outputs": [],
   "source": [
    "s =\"vinay\""
   ]
  },
  {
   "cell_type": "code",
   "execution_count": 3,
   "id": "1cd98af5-5ed2-4c48-86f4-f9230def34cf",
   "metadata": {},
   "outputs": [
    {
     "data": {
      "text/plain": [
       "str"
      ]
     },
     "execution_count": 3,
     "metadata": {},
     "output_type": "execute_result"
    }
   ],
   "source": [
    "type(s)"
   ]
  },
  {
   "cell_type": "markdown",
   "id": "43afd2af-16e9-4dcc-b3df-740bbc825a4b",
   "metadata": {},
   "source": [
    "Indexing = enclosed in square brackets, left to right is from 0 to n and left to right is from -1 to -n."
   ]
  },
  {
   "cell_type": "code",
   "execution_count": 6,
   "id": "041c919a-6c92-4151-af07-0f5c9beabffe",
   "metadata": {},
   "outputs": [
    {
     "data": {
      "text/plain": [
       "'v'"
      ]
     },
     "execution_count": 6,
     "metadata": {},
     "output_type": "execute_result"
    }
   ],
   "source": [
    "s[0]"
   ]
  },
  {
   "cell_type": "code",
   "execution_count": 8,
   "id": "fac785d8-e1d2-46a7-b01f-719151de31da",
   "metadata": {},
   "outputs": [
    {
     "data": {
      "text/plain": [
       "'i'"
      ]
     },
     "execution_count": 8,
     "metadata": {},
     "output_type": "execute_result"
    }
   ],
   "source": [
    "s[1]"
   ]
  },
  {
   "cell_type": "code",
   "execution_count": 10,
   "id": "7965653c-e13d-4930-b394-7805c9ce900f",
   "metadata": {},
   "outputs": [
    {
     "data": {
      "text/plain": [
       "'n'"
      ]
     },
     "execution_count": 10,
     "metadata": {},
     "output_type": "execute_result"
    }
   ],
   "source": [
    "s[2]"
   ]
  },
  {
   "cell_type": "code",
   "execution_count": 12,
   "id": "b8c5b37c-9b77-49ab-a4ba-28b979ba809f",
   "metadata": {},
   "outputs": [
    {
     "data": {
      "text/plain": [
       "'a'"
      ]
     },
     "execution_count": 12,
     "metadata": {},
     "output_type": "execute_result"
    }
   ],
   "source": [
    "s[3]"
   ]
  },
  {
   "cell_type": "code",
   "execution_count": 14,
   "id": "b5c58137-622f-41d1-946c-ad20037d8bfe",
   "metadata": {},
   "outputs": [
    {
     "data": {
      "text/plain": [
       "'y'"
      ]
     },
     "execution_count": 14,
     "metadata": {},
     "output_type": "execute_result"
    }
   ],
   "source": [
    "s[4]"
   ]
  },
  {
   "cell_type": "code",
   "execution_count": 16,
   "id": "eda8cf82-1031-4737-87da-8bb1f1790ebc",
   "metadata": {},
   "outputs": [
    {
     "data": {
      "text/plain": [
       "'y'"
      ]
     },
     "execution_count": 16,
     "metadata": {},
     "output_type": "execute_result"
    }
   ],
   "source": [
    "s[-1]"
   ]
  },
  {
   "cell_type": "code",
   "execution_count": 18,
   "id": "34c8c8e4-3892-4fc0-9e13-2d03c38a049f",
   "metadata": {},
   "outputs": [
    {
     "data": {
      "text/plain": [
       "'a'"
      ]
     },
     "execution_count": 18,
     "metadata": {},
     "output_type": "execute_result"
    }
   ],
   "source": [
    "s[-2]"
   ]
  },
  {
   "cell_type": "code",
   "execution_count": 20,
   "id": "5edb451c-a72a-495c-9379-003963c5c800",
   "metadata": {},
   "outputs": [
    {
     "data": {
      "text/plain": [
       "'n'"
      ]
     },
     "execution_count": 20,
     "metadata": {},
     "output_type": "execute_result"
    }
   ],
   "source": [
    "s[-3]"
   ]
  },
  {
   "cell_type": "code",
   "execution_count": 22,
   "id": "24229761-1c93-440a-960c-c57a085dab0e",
   "metadata": {},
   "outputs": [
    {
     "data": {
      "text/plain": [
       "'i'"
      ]
     },
     "execution_count": 22,
     "metadata": {},
     "output_type": "execute_result"
    }
   ],
   "source": [
    "s[-4]"
   ]
  },
  {
   "cell_type": "code",
   "execution_count": 24,
   "id": "23c89ade-e6a8-4907-ab45-0600aef109cf",
   "metadata": {},
   "outputs": [
    {
     "data": {
      "text/plain": [
       "'v'"
      ]
     },
     "execution_count": 24,
     "metadata": {},
     "output_type": "execute_result"
    }
   ],
   "source": [
    "s[-5]"
   ]
  },
  {
   "cell_type": "code",
   "execution_count": 28,
   "id": "cb328f7a-adff-4e0b-9533-2d7d9ec5f634",
   "metadata": {},
   "outputs": [],
   "source": [
    "a='my name is vinay'"
   ]
  },
  {
   "cell_type": "code",
   "execution_count": 34,
   "id": "5046b5e5-cef7-4ac2-b4fb-44bcc407c21e",
   "metadata": {},
   "outputs": [
    {
     "data": {
      "text/plain": [
       "'y'"
      ]
     },
     "execution_count": 34,
     "metadata": {},
     "output_type": "execute_result"
    }
   ],
   "source": [
    "a[-1]"
   ]
  },
  {
   "cell_type": "code",
   "execution_count": 36,
   "id": "ef8ab639-1a02-4347-ab22-703e24aa8a41",
   "metadata": {},
   "outputs": [
    {
     "data": {
      "text/plain": [
       "'m'"
      ]
     },
     "execution_count": 36,
     "metadata": {},
     "output_type": "execute_result"
    }
   ],
   "source": [
    "a[0]"
   ]
  },
  {
   "cell_type": "code",
   "execution_count": 38,
   "id": "f80b7c71-3b65-4675-80ea-e029e5d1bff8",
   "metadata": {},
   "outputs": [
    {
     "ename": "IndexError",
     "evalue": "string index out of range",
     "output_type": "error",
     "traceback": [
      "\u001b[0;31m---------------------------------------------------------------------------\u001b[0m",
      "\u001b[0;31mIndexError\u001b[0m                                Traceback (most recent call last)",
      "Cell \u001b[0;32mIn[38], line 1\u001b[0m\n\u001b[0;32m----> 1\u001b[0m a[\u001b[38;5;241m100\u001b[39m]\n",
      "\u001b[0;31mIndexError\u001b[0m: string index out of range"
     ]
    }
   ],
   "source": [
    "a[100]"
   ]
  },
  {
   "cell_type": "code",
   "execution_count": 40,
   "id": "9a208a88-941f-4e89-826c-823522377f88",
   "metadata": {},
   "outputs": [
    {
     "data": {
      "text/plain": [
       "'my name is vinay'"
      ]
     },
     "execution_count": 40,
     "metadata": {},
     "output_type": "execute_result"
    }
   ],
   "source": [
    "a"
   ]
  },
  {
   "cell_type": "code",
   "execution_count": 42,
   "id": "2a38f8d9-99cb-4fe7-8b8a-8c7688f7bba9",
   "metadata": {},
   "outputs": [
    {
     "data": {
      "text/plain": [
       "'my name is'"
      ]
     },
     "execution_count": 42,
     "metadata": {},
     "output_type": "execute_result"
    }
   ],
   "source": [
    "a[0:10]"
   ]
  },
  {
   "cell_type": "markdown",
   "id": "6e94f518-d532-492d-8f57-06dad59f9604",
   "metadata": {},
   "source": [
    "the above exludes 10th index and gives results only till 9th index.\n"
   ]
  },
  {
   "cell_type": "code",
   "execution_count": 45,
   "id": "9fa56b27-ef4e-4c3d-bb59-6632dd576546",
   "metadata": {},
   "outputs": [],
   "source": [
    "b=\"computer\""
   ]
  },
  {
   "cell_type": "code",
   "execution_count": 47,
   "id": "76e1eb73-e722-4666-9757-9c4693a4ab73",
   "metadata": {},
   "outputs": [
    {
     "data": {
      "text/plain": [
       "'com'"
      ]
     },
     "execution_count": 47,
     "metadata": {},
     "output_type": "execute_result"
    }
   ],
   "source": [
    "b[0:3]"
   ]
  },
  {
   "cell_type": "code",
   "execution_count": 49,
   "id": "232c50a9-c099-41ee-a082-9dcb8e8be9ed",
   "metadata": {},
   "outputs": [
    {
     "data": {
      "text/plain": [
       "'computer'"
      ]
     },
     "execution_count": 49,
     "metadata": {},
     "output_type": "execute_result"
    }
   ],
   "source": [
    "b[0:300]"
   ]
  },
  {
   "cell_type": "markdown",
   "id": "c2dae5c2-70f7-406f-acfa-4a156dc525e6",
   "metadata": {},
   "source": [
    "above gives the data as output as the spaces are counted after the letter computer."
   ]
  },
  {
   "cell_type": "code",
   "execution_count": 53,
   "id": "14f43fe3-1eb9-4bb5-a766-20359473ac20",
   "metadata": {},
   "outputs": [
    {
     "ename": "IndexError",
     "evalue": "string index out of range",
     "output_type": "error",
     "traceback": [
      "\u001b[0;31m---------------------------------------------------------------------------\u001b[0m",
      "\u001b[0;31mIndexError\u001b[0m                                Traceback (most recent call last)",
      "Cell \u001b[0;32mIn[53], line 1\u001b[0m\n\u001b[0;32m----> 1\u001b[0m b[\u001b[38;5;241m300\u001b[39m]\n",
      "\u001b[0;31mIndexError\u001b[0m: string index out of range"
     ]
    }
   ],
   "source": [
    "b[300]"
   ]
  },
  {
   "cell_type": "code",
   "execution_count": 55,
   "id": "c3b94ac8-5b8a-4d70-937c-64baf34ab362",
   "metadata": {},
   "outputs": [
    {
     "data": {
      "text/plain": [
       "'r'"
      ]
     },
     "execution_count": 55,
     "metadata": {},
     "output_type": "execute_result"
    }
   ],
   "source": [
    "b[-1]"
   ]
  },
  {
   "cell_type": "code",
   "execution_count": 57,
   "id": "43b29a16-8273-4df9-b1bd-8d966ff96af4",
   "metadata": {},
   "outputs": [
    {
     "ename": "IndexError",
     "evalue": "string index out of range",
     "output_type": "error",
     "traceback": [
      "\u001b[0;31m---------------------------------------------------------------------------\u001b[0m",
      "\u001b[0;31mIndexError\u001b[0m                                Traceback (most recent call last)",
      "Cell \u001b[0;32mIn[57], line 1\u001b[0m\n\u001b[0;32m----> 1\u001b[0m b[\u001b[38;5;241m-\u001b[39m\u001b[38;5;241m100\u001b[39m]\n",
      "\u001b[0;31mIndexError\u001b[0m: string index out of range"
     ]
    }
   ],
   "source": [
    "b[-100]"
   ]
  },
  {
   "cell_type": "code",
   "execution_count": 63,
   "id": "e7dd51e5-5cbe-46c2-8291-8e4ee08de739",
   "metadata": {},
   "outputs": [
    {
     "data": {
      "text/plain": [
       "''"
      ]
     },
     "execution_count": 63,
     "metadata": {},
     "output_type": "execute_result"
    }
   ],
   "source": [
    "b[-1:-4]"
   ]
  },
  {
   "cell_type": "code",
   "execution_count": 65,
   "id": "1cb4093f-913b-4549-b6f3-f567c7783a60",
   "metadata": {},
   "outputs": [
    {
     "data": {
      "text/plain": [
       "'comp'"
      ]
     },
     "execution_count": 65,
     "metadata": {},
     "output_type": "execute_result"
    }
   ],
   "source": [
    "b[0:4]"
   ]
  },
  {
   "cell_type": "code",
   "execution_count": 67,
   "id": "029811be-37db-4f0d-950d-f8d28a44042f",
   "metadata": {},
   "outputs": [],
   "source": [
    " a = \"iphone\""
   ]
  },
  {
   "cell_type": "code",
   "execution_count": 69,
   "id": "51a5fe25-550d-4196-aa9d-d5acac107521",
   "metadata": {},
   "outputs": [
    {
     "data": {
      "text/plain": [
       "'iph'"
      ]
     },
     "execution_count": 69,
     "metadata": {},
     "output_type": "execute_result"
    }
   ],
   "source": [
    "a[0:3]"
   ]
  },
  {
   "cell_type": "code",
   "execution_count": 71,
   "id": "264e9e51-b9b7-440a-ab68-37bf5a048b1d",
   "metadata": {},
   "outputs": [
    {
     "data": {
      "text/plain": [
       "'iphone'"
      ]
     },
     "execution_count": 71,
     "metadata": {},
     "output_type": "execute_result"
    }
   ],
   "source": [
    "a[0:300]"
   ]
  },
  {
   "cell_type": "code",
   "execution_count": 73,
   "id": "7a8bbafe-3c22-4623-84ff-73469451c1c2",
   "metadata": {},
   "outputs": [
    {
     "data": {
      "text/plain": [
       "'iphone'"
      ]
     },
     "execution_count": 73,
     "metadata": {},
     "output_type": "execute_result"
    }
   ],
   "source": [
    "a[0:300:1]"
   ]
  },
  {
   "cell_type": "markdown",
   "id": "89bde069-c95c-42ee-b4df-addf5b5e0afc",
   "metadata": {},
   "source": [
    "a[0:300:1] = 0 is start index, 300 is end index, and 1 is is jump"
   ]
  },
  {
   "cell_type": "code",
   "execution_count": 76,
   "id": "b3a5e0e8-f271-4713-a07d-876401f48b2d",
   "metadata": {},
   "outputs": [
    {
     "data": {
      "text/plain": [
       "'ihn'"
      ]
     },
     "execution_count": 76,
     "metadata": {},
     "output_type": "execute_result"
    }
   ],
   "source": [
    "a[0:300:2]"
   ]
  },
  {
   "cell_type": "code",
   "execution_count": 78,
   "id": "045f9f73-f86e-4a19-9338-d94bf0c3b87a",
   "metadata": {},
   "outputs": [
    {
     "data": {
      "text/plain": [
       "'io'"
      ]
     },
     "execution_count": 78,
     "metadata": {},
     "output_type": "execute_result"
    }
   ],
   "source": [
    "a[0:300:3]"
   ]
  },
  {
   "cell_type": "code",
   "execution_count": 80,
   "id": "53cf3279-8dc5-463a-9616-eea8c6b6c9e5",
   "metadata": {},
   "outputs": [
    {
     "data": {
      "text/plain": [
       "''"
      ]
     },
     "execution_count": 80,
     "metadata": {},
     "output_type": "execute_result"
    }
   ],
   "source": [
    "a[0:100:-1]"
   ]
  },
  {
   "cell_type": "markdown",
   "id": "1f392c5b-07e6-4cc4-bb99-5f5b433f4565",
   "metadata": {},
   "source": [
    " a[0:100:-1] =  we are defining startfrom 0 and go till 100, and we are asking to jump to negative side of the string which is not possible hence the blank result."
   ]
  },
  {
   "cell_type": "code",
   "execution_count": 83,
   "id": "1d12ced2-a582-4791-a00c-f5e9e0940d4e",
   "metadata": {},
   "outputs": [
    {
     "data": {
      "text/plain": [
       "''"
      ]
     },
     "execution_count": 83,
     "metadata": {},
     "output_type": "execute_result"
    }
   ],
   "source": [
    "a[-1:-4]"
   ]
  },
  {
   "cell_type": "markdown",
   "id": "316a8e19-7c67-4974-a0a4-0033d9e8e2cd",
   "metadata": {},
   "source": [
    "a[-1:-4]= gives blank coz the jump is not defined and it takes as +ve 1 as default and it is conflicting with the negative range."
   ]
  },
  {
   "cell_type": "code",
   "execution_count": 86,
   "id": "00edb5bf-0d75-475f-ab5f-6e31fbb8d186",
   "metadata": {},
   "outputs": [
    {
     "data": {
      "text/plain": [
       "'eno'"
      ]
     },
     "execution_count": 86,
     "metadata": {},
     "output_type": "execute_result"
    }
   ],
   "source": [
    "a[-1:-4:-1]"
   ]
  },
  {
   "cell_type": "code",
   "execution_count": 88,
   "id": "3cc6c433-2e8b-4342-be19-fc3f157ccf1c",
   "metadata": {},
   "outputs": [
    {
     "data": {
      "text/plain": [
       "'i'"
      ]
     },
     "execution_count": 88,
     "metadata": {},
     "output_type": "execute_result"
    }
   ],
   "source": [
    "a[0:-40:-1]"
   ]
  },
  {
   "cell_type": "code",
   "execution_count": 90,
   "id": "9f04cb83-0c23-4e83-8990-696755060abd",
   "metadata": {},
   "outputs": [
    {
     "data": {
      "text/plain": [
       "'iphone'"
      ]
     },
     "execution_count": 90,
     "metadata": {},
     "output_type": "execute_result"
    }
   ],
   "source": [
    "a[::]\n"
   ]
  },
  {
   "cell_type": "code",
   "execution_count": 92,
   "id": "34002ba7-23d0-4b16-95e7-2cd3d0b004f3",
   "metadata": {},
   "outputs": [
    {
     "data": {
      "text/plain": [
       "'iphone'"
      ]
     },
     "execution_count": 92,
     "metadata": {},
     "output_type": "execute_result"
    }
   ],
   "source": [
    "a[:8]"
   ]
  },
  {
   "cell_type": "code",
   "execution_count": 94,
   "id": "7db45120-72cb-4a11-8908-b5aebc24b611",
   "metadata": {},
   "outputs": [
    {
     "data": {
      "text/plain": [
       "'ne'"
      ]
     },
     "execution_count": 94,
     "metadata": {},
     "output_type": "execute_result"
    }
   ],
   "source": [
    "a[-2:]"
   ]
  },
  {
   "cell_type": "code",
   "execution_count": 96,
   "id": "d39e7406-1fbe-4e2e-93d5-0144f4d4f755",
   "metadata": {},
   "outputs": [
    {
     "data": {
      "text/plain": [
       "'n'"
      ]
     },
     "execution_count": 96,
     "metadata": {},
     "output_type": "execute_result"
    }
   ],
   "source": [
    "a[-2:-1]"
   ]
  },
  {
   "cell_type": "code",
   "execution_count": 98,
   "id": "425f6821-f9b8-413c-8a32-48d0ec0df4ec",
   "metadata": {},
   "outputs": [
    {
     "data": {
      "text/plain": [
       "'enohpi'"
      ]
     },
     "execution_count": 98,
     "metadata": {},
     "output_type": "execute_result"
    }
   ],
   "source": [
    "a[::-1]"
   ]
  },
  {
   "cell_type": "code",
   "execution_count": 100,
   "id": "ec8991d3-0708-4c7b-90fb-2373e8c6fb38",
   "metadata": {},
   "outputs": [
    {
     "data": {
      "text/plain": [
       "'enohpi'"
      ]
     },
     "execution_count": 100,
     "metadata": {},
     "output_type": "execute_result"
    }
   ],
   "source": [
    "a[-1::-1]"
   ]
  },
  {
   "cell_type": "code",
   "execution_count": 102,
   "id": "073aa8ae-c4f2-4e3d-ad38-019267d255c4",
   "metadata": {},
   "outputs": [],
   "source": [
    "a = \"i am working with ineuron\""
   ]
  },
  {
   "cell_type": "code",
   "execution_count": 104,
   "id": "58c82474-d591-4560-81b5-6c7e31febe94",
   "metadata": {},
   "outputs": [
    {
     "data": {
      "text/plain": [
       "'norueni htiw gnikrow ma i'"
      ]
     },
     "execution_count": 104,
     "metadata": {},
     "output_type": "execute_result"
    }
   ],
   "source": [
    "a[::-1]"
   ]
  },
  {
   "cell_type": "code",
   "execution_count": 108,
   "id": "5d76ce67-5ce7-425c-905b-f409072892b5",
   "metadata": {},
   "outputs": [
    {
     "data": {
      "text/plain": [
       "'eni htiw gnikro'"
      ]
     },
     "execution_count": 108,
     "metadata": {},
     "output_type": "execute_result"
    }
   ],
   "source": [
    "a[-5:5:-1]"
   ]
  },
  {
   "cell_type": "code",
   "execution_count": 110,
   "id": "9d9e2906-0e13-4a1e-a734-771a71d710ff",
   "metadata": {},
   "outputs": [
    {
     "data": {
      "text/plain": [
       "'orueni h'"
      ]
     },
     "execution_count": 110,
     "metadata": {},
     "output_type": "execute_result"
    }
   ],
   "source": [
    "a[-2:-10:-1]"
   ]
  },
  {
   "cell_type": "code",
   "execution_count": 112,
   "id": "3dd8f992-3ca9-496f-a305-a01f0ca618b8",
   "metadata": {},
   "outputs": [
    {
     "data": {
      "text/plain": [
       "'vinavinavina'"
      ]
     },
     "execution_count": 112,
     "metadata": {},
     "output_type": "execute_result"
    }
   ],
   "source": [
    "\"vina\"*3"
   ]
  },
  {
   "cell_type": "code",
   "execution_count": 114,
   "id": "f6b7975f-c3af-49c4-92ca-eec66230bf71",
   "metadata": {},
   "outputs": [
    {
     "data": {
      "text/plain": [
       "'vinaybg'"
      ]
     },
     "execution_count": 114,
     "metadata": {},
     "output_type": "execute_result"
    }
   ],
   "source": [
    "\"vinay\"+\"bg\""
   ]
  },
  {
   "cell_type": "code",
   "execution_count": 116,
   "id": "281a4b02-3a7a-44f1-9cf7-60351b0801a6",
   "metadata": {},
   "outputs": [
    {
     "data": {
      "text/plain": [
       "25"
      ]
     },
     "execution_count": 116,
     "metadata": {},
     "output_type": "execute_result"
    }
   ],
   "source": [
    "len(a)"
   ]
  },
  {
   "cell_type": "code",
   "execution_count": 118,
   "id": "920b8a4d-1b33-4f9e-8878-38cf9050adaf",
   "metadata": {},
   "outputs": [
    {
     "ename": "TypeError",
     "evalue": "can't multiply sequence by non-int of type 'str'",
     "output_type": "error",
     "traceback": [
      "\u001b[0;31m---------------------------------------------------------------------------\u001b[0m",
      "\u001b[0;31mTypeError\u001b[0m                                 Traceback (most recent call last)",
      "Cell \u001b[0;32mIn[118], line 1\u001b[0m\n\u001b[0;32m----> 1\u001b[0m \u001b[38;5;124m\"\u001b[39m\u001b[38;5;124mvinay\u001b[39m\u001b[38;5;124m\"\u001b[39m\u001b[38;5;241m*\u001b[39m\u001b[38;5;124m\"\u001b[39m\u001b[38;5;124mvinay\u001b[39m\u001b[38;5;124m\"\u001b[39m\n",
      "\u001b[0;31mTypeError\u001b[0m: can't multiply sequence by non-int of type 'str'"
     ]
    }
   ],
   "source": [
    "\"vinay\"*\"vinay\""
   ]
  },
  {
   "cell_type": "code",
   "execution_count": 120,
   "id": "e03014ea-cb5e-45ab-b453-3bb320444957",
   "metadata": {},
   "outputs": [
    {
     "data": {
      "text/plain": [
       "'i am working with ineuron'"
      ]
     },
     "execution_count": 120,
     "metadata": {},
     "output_type": "execute_result"
    }
   ],
   "source": [
    "a"
   ]
  },
  {
   "cell_type": "code",
   "execution_count": 124,
   "id": "6eb8bade-59fd-4650-935d-611ac2a32e10",
   "metadata": {},
   "outputs": [
    {
     "data": {
      "text/plain": [
       "2"
      ]
     },
     "execution_count": 124,
     "metadata": {},
     "output_type": "execute_result"
    }
   ],
   "source": [
    "a.find('a')"
   ]
  },
  {
   "cell_type": "code",
   "execution_count": 126,
   "id": "54d3bcee-768a-4693-ba47-ea81066081ed",
   "metadata": {},
   "outputs": [
    {
     "data": {
      "text/plain": [
       "0"
      ]
     },
     "execution_count": 126,
     "metadata": {},
     "output_type": "execute_result"
    }
   ],
   "source": [
    "a.find('i')"
   ]
  },
  {
   "cell_type": "code",
   "execution_count": 128,
   "id": "d7b11229-33a9-4504-a739-e0edfd5cd4e8",
   "metadata": {},
   "outputs": [
    {
     "data": {
      "text/plain": [
       "-1"
      ]
     },
     "execution_count": 128,
     "metadata": {},
     "output_type": "execute_result"
    }
   ],
   "source": [
    "a.find('ia')"
   ]
  },
  {
   "cell_type": "code",
   "execution_count": 130,
   "id": "a03d9004-7f9e-4abd-a33a-3875d12d1d81",
   "metadata": {},
   "outputs": [
    {
     "data": {
      "text/plain": [
       "9"
      ]
     },
     "execution_count": 130,
     "metadata": {},
     "output_type": "execute_result"
    }
   ],
   "source": [
    "a.find('in')"
   ]
  },
  {
   "cell_type": "code",
   "execution_count": 134,
   "id": "82d09ba5-771f-4168-b1ac-a6222110d4a6",
   "metadata": {},
   "outputs": [
    {
     "data": {
      "text/plain": [
       "1"
      ]
     },
     "execution_count": 134,
     "metadata": {},
     "output_type": "execute_result"
    }
   ],
   "source": [
    "a.count('a')"
   ]
  },
  {
   "cell_type": "code",
   "execution_count": 136,
   "id": "e61d481e-47c8-41a9-8951-5285602c7bec",
   "metadata": {},
   "outputs": [
    {
     "data": {
      "text/plain": [
       "4"
      ]
     },
     "execution_count": 136,
     "metadata": {},
     "output_type": "execute_result"
    }
   ],
   "source": [
    "a.count('i')"
   ]
  },
  {
   "cell_type": "code",
   "execution_count": 138,
   "id": "933002a9-b40c-4332-9a6d-db62b5bfbe96",
   "metadata": {},
   "outputs": [
    {
     "data": {
      "text/plain": [
       "0"
      ]
     },
     "execution_count": 138,
     "metadata": {},
     "output_type": "execute_result"
    }
   ],
   "source": [
    "a.count('x')"
   ]
  },
  {
   "cell_type": "code",
   "execution_count": 140,
   "id": "efc7a321-656b-450d-a198-55cb7130acce",
   "metadata": {},
   "outputs": [
    {
     "data": {
      "text/plain": [
       "'i am working with ineuron'"
      ]
     },
     "execution_count": 140,
     "metadata": {},
     "output_type": "execute_result"
    }
   ],
   "source": [
    "a"
   ]
  },
  {
   "cell_type": "code",
   "execution_count": 146,
   "id": "2ae3d807-41d8-4ffa-8d02-0380cbc0fe9a",
   "metadata": {},
   "outputs": [
    {
     "data": {
      "text/plain": [
       "['i', 'am', 'working', 'with', 'ineuron']"
      ]
     },
     "execution_count": 146,
     "metadata": {},
     "output_type": "execute_result"
    }
   ],
   "source": [
    "a.split()"
   ]
  },
  {
   "cell_type": "markdown",
   "id": "4b2de8c3-87d4-4455-8f9f-f853e719454c",
   "metadata": {},
   "source": [
    "The above output is called as list."
   ]
  },
  {
   "cell_type": "code",
   "execution_count": 149,
   "id": "3c06cb0a-6104-472e-8e2d-3852b3e7a34c",
   "metadata": {},
   "outputs": [
    {
     "data": {
      "text/plain": [
       "list"
      ]
     },
     "execution_count": 149,
     "metadata": {},
     "output_type": "execute_result"
    }
   ],
   "source": [
    "type(a.split())"
   ]
  },
  {
   "cell_type": "code",
   "execution_count": 151,
   "id": "d868a895-c1b1-4229-b7c5-f3dd5f784a27",
   "metadata": {},
   "outputs": [],
   "source": [
    "l = a.split()"
   ]
  },
  {
   "cell_type": "code",
   "execution_count": 153,
   "id": "80dd0ea0-eeb6-4f95-8f82-1b6dd95c4440",
   "metadata": {},
   "outputs": [
    {
     "data": {
      "text/plain": [
       "['i', 'am', 'working', 'with', 'ineuron']"
      ]
     },
     "execution_count": 153,
     "metadata": {},
     "output_type": "execute_result"
    }
   ],
   "source": [
    "l"
   ]
  },
  {
   "cell_type": "code",
   "execution_count": 155,
   "id": "45fa530f-b81f-4776-9b48-b4ff11f6f30d",
   "metadata": {},
   "outputs": [
    {
     "data": {
      "text/plain": [
       "'i'"
      ]
     },
     "execution_count": 155,
     "metadata": {},
     "output_type": "execute_result"
    }
   ],
   "source": [
    "l[0]"
   ]
  },
  {
   "cell_type": "code",
   "execution_count": 157,
   "id": "35849dae-58ba-4601-8003-50abe1a25e88",
   "metadata": {},
   "outputs": [
    {
     "data": {
      "text/plain": [
       "'am'"
      ]
     },
     "execution_count": 157,
     "metadata": {},
     "output_type": "execute_result"
    }
   ],
   "source": [
    "l[1]"
   ]
  },
  {
   "cell_type": "code",
   "execution_count": 159,
   "id": "2afddd3e-8727-49b0-bc0c-9cd7ca2fab99",
   "metadata": {},
   "outputs": [
    {
     "data": {
      "text/plain": [
       "'working'"
      ]
     },
     "execution_count": 159,
     "metadata": {},
     "output_type": "execute_result"
    }
   ],
   "source": [
    "l[2]"
   ]
  },
  {
   "cell_type": "code",
   "execution_count": 161,
   "id": "e2785471-e832-4ef6-ac17-96d26bfc9c62",
   "metadata": {},
   "outputs": [
    {
     "data": {
      "text/plain": [
       "'with'"
      ]
     },
     "execution_count": 161,
     "metadata": {},
     "output_type": "execute_result"
    }
   ],
   "source": [
    "l[3]"
   ]
  },
  {
   "cell_type": "code",
   "execution_count": 163,
   "id": "6082c1bc-a35c-4867-ad5d-298cab5e4856",
   "metadata": {},
   "outputs": [
    {
     "data": {
      "text/plain": [
       "'ineuron'"
      ]
     },
     "execution_count": 163,
     "metadata": {},
     "output_type": "execute_result"
    }
   ],
   "source": [
    "l[4]"
   ]
  },
  {
   "cell_type": "code",
   "execution_count": 165,
   "id": "46c1a2ee-b6af-4f6c-b3b1-cee2263eeea6",
   "metadata": {},
   "outputs": [
    {
     "data": {
      "text/plain": [
       "['i am ', 'orking ', 'ith ineuron']"
      ]
     },
     "execution_count": 165,
     "metadata": {},
     "output_type": "execute_result"
    }
   ],
   "source": [
    "a.split('w')"
   ]
  },
  {
   "cell_type": "code",
   "execution_count": 167,
   "id": "f0ca85c4-1c95-4096-930f-3d8544199d49",
   "metadata": {},
   "outputs": [
    {
     "data": {
      "text/plain": [
       "['i am ', 'rking with ineuron']"
      ]
     },
     "execution_count": 167,
     "metadata": {},
     "output_type": "execute_result"
    }
   ],
   "source": [
    "a.split('wo')"
   ]
  },
  {
   "cell_type": "code",
   "execution_count": 169,
   "id": "9a6ba3a4-a510-4595-b33b-5bbbbe43244b",
   "metadata": {},
   "outputs": [
    {
     "data": {
      "text/plain": [
       "'i am working with ineuron'"
      ]
     },
     "execution_count": 169,
     "metadata": {},
     "output_type": "execute_result"
    }
   ],
   "source": [
    "a"
   ]
  },
  {
   "cell_type": "code",
   "execution_count": 171,
   "id": "cb47aebc-83f9-4dcc-9f1f-d587b7bee4e8",
   "metadata": {},
   "outputs": [
    {
     "data": {
      "text/plain": [
       "'I AM WORKING WITH INEURON'"
      ]
     },
     "execution_count": 171,
     "metadata": {},
     "output_type": "execute_result"
    }
   ],
   "source": [
    "a.upper()"
   ]
  },
  {
   "cell_type": "code",
   "execution_count": 173,
   "id": "08c44829-df17-49bb-9ff0-66cbaa09a629",
   "metadata": {},
   "outputs": [
    {
     "data": {
      "text/plain": [
       "'i am working with ineuron'"
      ]
     },
     "execution_count": 173,
     "metadata": {},
     "output_type": "execute_result"
    }
   ],
   "source": [
    "a.lower()"
   ]
  },
  {
   "cell_type": "code",
   "execution_count": 175,
   "id": "cd86017f-b04f-4131-ab7d-d703be0b7b23",
   "metadata": {},
   "outputs": [],
   "source": [
    "s=\"sUdh\""
   ]
  },
  {
   "cell_type": "code",
   "execution_count": 177,
   "id": "2ba9b5eb-be62-4756-9ed0-201a345a90f6",
   "metadata": {},
   "outputs": [
    {
     "data": {
      "text/plain": [
       "'SuDH'"
      ]
     },
     "execution_count": 177,
     "metadata": {},
     "output_type": "execute_result"
    }
   ],
   "source": [
    "s.swapcase()"
   ]
  },
  {
   "cell_type": "code",
   "execution_count": 179,
   "id": "e491d6f2-e77c-474e-a6a6-4459a5a94a90",
   "metadata": {},
   "outputs": [
    {
     "data": {
      "text/plain": [
       "'Sudh'"
      ]
     },
     "execution_count": 179,
     "metadata": {},
     "output_type": "execute_result"
    }
   ],
   "source": [
    "s.title()"
   ]
  },
  {
   "cell_type": "code",
   "execution_count": 181,
   "id": "e7f56611-5db8-40d1-8114-7b275417eb1e",
   "metadata": {},
   "outputs": [
    {
     "data": {
      "text/plain": [
       "'Sudh'"
      ]
     },
     "execution_count": 181,
     "metadata": {},
     "output_type": "execute_result"
    }
   ],
   "source": [
    "s.capitalize()"
   ]
  },
  {
   "cell_type": "code",
   "execution_count": 183,
   "id": "02185e6e-2e3e-4c79-ab93-414c51212eea",
   "metadata": {},
   "outputs": [],
   "source": [
    "b = \"sudh\"\n",
    "c = \"ineuron\""
   ]
  },
  {
   "cell_type": "code",
   "execution_count": 185,
   "id": "7f154148-edd1-45fc-af08-e71b7e82cc3e",
   "metadata": {},
   "outputs": [
    {
     "data": {
      "text/plain": [
       "'isudhnsudhesudhusudhrsudhosudhn'"
      ]
     },
     "execution_count": 185,
     "metadata": {},
     "output_type": "execute_result"
    }
   ],
   "source": [
    "b.join(c)"
   ]
  },
  {
   "cell_type": "code",
   "execution_count": 189,
   "id": "a7dbae22-b929-47a6-b649-73f1da88f538",
   "metadata": {},
   "outputs": [
    {
     "data": {
      "text/plain": [
       "'s u d h'"
      ]
     },
     "execution_count": 189,
     "metadata": {},
     "output_type": "execute_result"
    }
   ],
   "source": [
    "\" \".join(\"sudh\")"
   ]
  },
  {
   "cell_type": "code",
   "execution_count": 191,
   "id": "a3c7b9b0-11fe-4631-9bfd-8d21678f3d76",
   "metadata": {},
   "outputs": [
    {
     "data": {
      "text/plain": [
       "<reversed at 0x12cbf06d0>"
      ]
     },
     "execution_count": 191,
     "metadata": {},
     "output_type": "execute_result"
    }
   ],
   "source": [
    "reversed(\"sudh\")"
   ]
  },
  {
   "cell_type": "code",
   "execution_count": 193,
   "id": "f75bd03f-4abd-4857-8dab-63175b469432",
   "metadata": {},
   "outputs": [
    {
     "name": "stdout",
     "output_type": "stream",
     "text": [
      "h\n",
      "d\n",
      "u\n",
      "s\n"
     ]
    }
   ],
   "source": [
    "for i in reversed(\"sudh\"):\n",
    "    print(i)"
   ]
  },
  {
   "cell_type": "code",
   "execution_count": 195,
   "id": "dc9d5101-485f-45b3-88de-89c1c232e928",
   "metadata": {},
   "outputs": [
    {
     "data": {
      "text/plain": [
       "'yaniv'"
      ]
     },
     "execution_count": 195,
     "metadata": {},
     "output_type": "execute_result"
    }
   ],
   "source": [
    "s=\"vinay\"\n",
    "s[::-1]"
   ]
  },
  {
   "cell_type": "code",
   "execution_count": 197,
   "id": "d0100920-56c0-4ad2-a210-9c7f02b850b5",
   "metadata": {},
   "outputs": [],
   "source": [
    "s = \" sudh   \""
   ]
  },
  {
   "cell_type": "code",
   "execution_count": 199,
   "id": "b2ae94ee-bddd-4b67-9221-f02714a08b5a",
   "metadata": {},
   "outputs": [
    {
     "data": {
      "text/plain": [
       "' sudh'"
      ]
     },
     "execution_count": 199,
     "metadata": {},
     "output_type": "execute_result"
    }
   ],
   "source": [
    "s.rstrip()"
   ]
  },
  {
   "cell_type": "code",
   "execution_count": 201,
   "id": "c41bfade-95de-403f-9c34-05e901d5624b",
   "metadata": {},
   "outputs": [
    {
     "data": {
      "text/plain": [
       "'sudh   '"
      ]
     },
     "execution_count": 201,
     "metadata": {},
     "output_type": "execute_result"
    }
   ],
   "source": [
    "s.lstrip()"
   ]
  },
  {
   "cell_type": "code",
   "execution_count": 203,
   "id": "2fe9ba25-5ffc-4ff2-903f-1fa1e3eccf54",
   "metadata": {},
   "outputs": [
    {
     "data": {
      "text/plain": [
       "'sudh'"
      ]
     },
     "execution_count": 203,
     "metadata": {},
     "output_type": "execute_result"
    }
   ],
   "source": [
    "s.strip()"
   ]
  },
  {
   "cell_type": "code",
   "execution_count": 205,
   "id": "4230a115-6b08-488e-bebe-07310860aed6",
   "metadata": {},
   "outputs": [],
   "source": [
    "s = \"sudh\""
   ]
  },
  {
   "cell_type": "code",
   "execution_count": 207,
   "id": "4ff6a00e-6d42-43ed-ae60-528f32695161",
   "metadata": {},
   "outputs": [
    {
     "data": {
      "text/plain": [
       "'sxyzdh'"
      ]
     },
     "execution_count": 207,
     "metadata": {},
     "output_type": "execute_result"
    }
   ],
   "source": [
    "s.replace(\"u\" , \"xyz\")"
   ]
  },
  {
   "cell_type": "code",
   "execution_count": 209,
   "id": "18587885-a9f0-4312-a483-84b841ecc16b",
   "metadata": {},
   "outputs": [
    {
     "data": {
      "text/plain": [
       "'sudh'"
      ]
     },
     "execution_count": 209,
     "metadata": {},
     "output_type": "execute_result"
    }
   ],
   "source": [
    "s.replace(\"t\" , \"xyz\")"
   ]
  },
  {
   "cell_type": "code",
   "execution_count": 211,
   "id": "d6220631-9781-444e-9a8a-66e581463ef1",
   "metadata": {},
   "outputs": [
    {
     "data": {
      "text/plain": [
       "'sudh    kumar'"
      ]
     },
     "execution_count": 211,
     "metadata": {},
     "output_type": "execute_result"
    }
   ],
   "source": [
    "\"sudh\\tkumar\".expandtabs()"
   ]
  },
  {
   "cell_type": "code",
   "execution_count": 213,
   "id": "67a347d4-c48b-47f4-ab08-b0943d9da78e",
   "metadata": {},
   "outputs": [
    {
     "data": {
      "text/plain": [
       "'vinay   bg'"
      ]
     },
     "execution_count": 213,
     "metadata": {},
     "output_type": "execute_result"
    }
   ],
   "source": [
    "\"vinay\\tbg\".expandtabs()"
   ]
  },
  {
   "cell_type": "code",
   "execution_count": 215,
   "id": "eeabace9-35d1-4098-bbc4-9f42e0a981ef",
   "metadata": {},
   "outputs": [],
   "source": [
    "s = \"sudh\""
   ]
  },
  {
   "cell_type": "code",
   "execution_count": 221,
   "id": "437a671c-56f9-4905-9a90-6712cb200748",
   "metadata": {},
   "outputs": [
    {
     "data": {
      "text/plain": [
       "'ttttttttttttttttttsudhtttttttttttttttttt'"
      ]
     },
     "execution_count": 221,
     "metadata": {},
     "output_type": "execute_result"
    }
   ],
   "source": [
    "s.center(40 , 't')"
   ]
  },
  {
   "cell_type": "code",
   "execution_count": 223,
   "id": "97bf779b-d99a-4a08-97f8-b4125645803f",
   "metadata": {},
   "outputs": [],
   "source": [
    "s = \"sudh\""
   ]
  },
  {
   "cell_type": "code",
   "execution_count": 225,
   "id": "b1570c2b-11cb-46ad-9373-0963ffedee11",
   "metadata": {},
   "outputs": [
    {
     "data": {
      "text/plain": [
       "False"
      ]
     },
     "execution_count": 225,
     "metadata": {},
     "output_type": "execute_result"
    }
   ],
   "source": [
    "s.isupper()"
   ]
  },
  {
   "cell_type": "code",
   "execution_count": 227,
   "id": "36f96c3b-be87-4c7b-9237-c14babee700e",
   "metadata": {},
   "outputs": [
    {
     "data": {
      "text/plain": [
       "'sudh'"
      ]
     },
     "execution_count": 227,
     "metadata": {},
     "output_type": "execute_result"
    }
   ],
   "source": [
    "s.lower()"
   ]
  },
  {
   "cell_type": "code",
   "execution_count": 229,
   "id": "1130582d-75c0-4c5a-b674-046e4ad4fc45",
   "metadata": {},
   "outputs": [],
   "source": [
    "s = \"Sudh\""
   ]
  },
  {
   "cell_type": "code",
   "execution_count": 231,
   "id": "c717b53a-0ece-48c7-901c-b2263438d99c",
   "metadata": {},
   "outputs": [
    {
     "data": {
      "text/plain": [
       "False"
      ]
     },
     "execution_count": 231,
     "metadata": {},
     "output_type": "execute_result"
    }
   ],
   "source": [
    "s.isupper()"
   ]
  },
  {
   "cell_type": "code",
   "execution_count": 237,
   "id": "1927b74f-071d-4063-b760-c15eefaf69fb",
   "metadata": {},
   "outputs": [
    {
     "data": {
      "text/plain": [
       "False"
      ]
     },
     "execution_count": 237,
     "metadata": {},
     "output_type": "execute_result"
    }
   ],
   "source": [
    "s.islower()"
   ]
  },
  {
   "cell_type": "code",
   "execution_count": 239,
   "id": "ece7901a-5c5c-4b01-ba92-80b2f6e10ee4",
   "metadata": {},
   "outputs": [
    {
     "data": {
      "text/plain": [
       "False"
      ]
     },
     "execution_count": 239,
     "metadata": {},
     "output_type": "execute_result"
    }
   ],
   "source": [
    "s.isspace()"
   ]
  },
  {
   "cell_type": "code",
   "execution_count": 241,
   "id": "b12d7a6a-4790-4f94-abec-f983e33c66f8",
   "metadata": {},
   "outputs": [],
   "source": [
    "s = \"   vinay\""
   ]
  },
  {
   "cell_type": "code",
   "execution_count": 243,
   "id": "9e665cc1-51bf-4a97-8abf-4d517d75fd1d",
   "metadata": {},
   "outputs": [
    {
     "data": {
      "text/plain": [
       "False"
      ]
     },
     "execution_count": 243,
     "metadata": {},
     "output_type": "execute_result"
    }
   ],
   "source": [
    "s.isspace()"
   ]
  },
  {
   "cell_type": "code",
   "execution_count": 245,
   "id": "c48bb178-d37f-47d1-b233-2e4c6307cd9b",
   "metadata": {},
   "outputs": [],
   "source": [
    "s = \"    \""
   ]
  },
  {
   "cell_type": "code",
   "execution_count": 247,
   "id": "e0ee0bc1-7e25-4823-b751-898549bd8abb",
   "metadata": {},
   "outputs": [
    {
     "data": {
      "text/plain": [
       "True"
      ]
     },
     "execution_count": 247,
     "metadata": {},
     "output_type": "execute_result"
    }
   ],
   "source": [
    "s.isspace()"
   ]
  },
  {
   "cell_type": "code",
   "execution_count": 249,
   "id": "db0eb0b6-4e9c-44ac-aedd-bb25ef02bfe8",
   "metadata": {},
   "outputs": [],
   "source": [
    "s = \"sudh\""
   ]
  },
  {
   "cell_type": "code",
   "execution_count": 253,
   "id": "9bbe2dbd-65e9-474c-8d46-b091aed8d729",
   "metadata": {},
   "outputs": [
    {
     "data": {
      "text/plain": [
       "False"
      ]
     },
     "execution_count": 253,
     "metadata": {},
     "output_type": "execute_result"
    }
   ],
   "source": [
    "s.isdigit()"
   ]
  },
  {
   "cell_type": "code",
   "execution_count": 263,
   "id": "f9445484-9807-4d4b-98d4-c3a6ace773c3",
   "metadata": {},
   "outputs": [],
   "source": [
    "s = \"sudh12345\""
   ]
  },
  {
   "cell_type": "code",
   "execution_count": 265,
   "id": "ed1b24d3-099f-46cd-aea2-4f68a3a7f0ce",
   "metadata": {},
   "outputs": [
    {
     "data": {
      "text/plain": [
       "False"
      ]
     },
     "execution_count": 265,
     "metadata": {},
     "output_type": "execute_result"
    }
   ],
   "source": [
    "s.isdigit()"
   ]
  },
  {
   "cell_type": "code",
   "execution_count": 267,
   "id": "c7dbdd69-251a-4b32-a2c4-b00ebf6bf85b",
   "metadata": {},
   "outputs": [],
   "source": [
    "s = '12345'"
   ]
  },
  {
   "cell_type": "code",
   "execution_count": 269,
   "id": "4bbd8d8b-18ae-4f46-a920-f6a68c5d86ab",
   "metadata": {},
   "outputs": [
    {
     "data": {
      "text/plain": [
       "True"
      ]
     },
     "execution_count": 269,
     "metadata": {},
     "output_type": "execute_result"
    }
   ],
   "source": [
    "s.isdigit()"
   ]
  },
  {
   "cell_type": "code",
   "execution_count": 271,
   "id": "dc723e72-05c5-4ef9-ab44-e18a60388c73",
   "metadata": {},
   "outputs": [],
   "source": [
    "s = \"sudh\""
   ]
  },
  {
   "cell_type": "code",
   "execution_count": 273,
   "id": "95d6621c-bb5e-4b7e-bebc-c0b636369839",
   "metadata": {},
   "outputs": [
    {
     "data": {
      "text/plain": [
       "True"
      ]
     },
     "execution_count": 273,
     "metadata": {},
     "output_type": "execute_result"
    }
   ],
   "source": [
    "s.endswith('h')"
   ]
  },
  {
   "cell_type": "code",
   "execution_count": 275,
   "id": "e35bddcd-da66-4f71-adf6-db4965ea40fc",
   "metadata": {},
   "outputs": [
    {
     "data": {
      "text/plain": [
       "False"
      ]
     },
     "execution_count": 275,
     "metadata": {},
     "output_type": "execute_result"
    }
   ],
   "source": [
    "s.endswith('a')"
   ]
  },
  {
   "cell_type": "code",
   "execution_count": 277,
   "id": "244573fa-154a-4306-8a5d-3afcd1a92635",
   "metadata": {},
   "outputs": [
    {
     "data": {
      "text/plain": [
       "True"
      ]
     },
     "execution_count": 277,
     "metadata": {},
     "output_type": "execute_result"
    }
   ],
   "source": [
    "s.startswith('s')"
   ]
  },
  {
   "cell_type": "code",
   "execution_count": 279,
   "id": "00148cce-5c5b-4b38-87c2-1978a316f902",
   "metadata": {},
   "outputs": [
    {
     "data": {
      "text/plain": [
       "False"
      ]
     },
     "execution_count": 279,
     "metadata": {},
     "output_type": "execute_result"
    }
   ],
   "source": [
    "s.startswith('x')\n"
   ]
  },
  {
   "cell_type": "code",
   "execution_count": 281,
   "id": "100a483f-7491-449a-9ea2-b730b321e127",
   "metadata": {},
   "outputs": [
    {
     "data": {
      "text/plain": [
       "False"
      ]
     },
     "execution_count": 281,
     "metadata": {},
     "output_type": "execute_result"
    }
   ],
   "source": [
    "s.istitle()"
   ]
  },
  {
   "cell_type": "markdown",
   "id": "d3909e55-ee5a-4f42-b3b6-49e2295528f7",
   "metadata": {},
   "source": [
    "LISTS:"
   ]
  },
  {
   "cell_type": "code",
   "execution_count": 284,
   "id": "9f9ebf99-3290-4084-a8e7-9f8d256dc937",
   "metadata": {},
   "outputs": [],
   "source": [
    "l = [\"sudh\" , \"kumar\" ,  3543 , 4+6j , True , 345.56]"
   ]
  },
  {
   "cell_type": "code",
   "execution_count": 286,
   "id": "179b06cd-a104-4893-8172-d8e244a8777f",
   "metadata": {},
   "outputs": [
    {
     "data": {
      "text/plain": [
       "list"
      ]
     },
     "execution_count": 286,
     "metadata": {},
     "output_type": "execute_result"
    }
   ],
   "source": [
    "type(l)"
   ]
  },
  {
   "cell_type": "code",
   "execution_count": 288,
   "id": "0cbc262b-ca13-4d40-bd52-cfd021882b38",
   "metadata": {},
   "outputs": [
    {
     "data": {
      "text/plain": [
       "'sudh'"
      ]
     },
     "execution_count": 288,
     "metadata": {},
     "output_type": "execute_result"
    }
   ],
   "source": [
    "l[0]"
   ]
  },
  {
   "cell_type": "code",
   "execution_count": 290,
   "id": "d05a3297-dffd-4069-80fa-673edf923aff",
   "metadata": {},
   "outputs": [
    {
     "data": {
      "text/plain": [
       "'kumar'"
      ]
     },
     "execution_count": 290,
     "metadata": {},
     "output_type": "execute_result"
    }
   ],
   "source": [
    "l[1]"
   ]
  },
  {
   "cell_type": "code",
   "execution_count": 292,
   "id": "0bc4d715-7f76-4418-af78-d78eef631759",
   "metadata": {},
   "outputs": [
    {
     "data": {
      "text/plain": [
       "(4+6j)"
      ]
     },
     "execution_count": 292,
     "metadata": {},
     "output_type": "execute_result"
    }
   ],
   "source": [
    "l[-3]"
   ]
  },
  {
   "cell_type": "code",
   "execution_count": 294,
   "id": "1f87bace-a22e-4023-b25e-c9b7bd40110a",
   "metadata": {},
   "outputs": [
    {
     "data": {
      "text/plain": [
       "True"
      ]
     },
     "execution_count": 294,
     "metadata": {},
     "output_type": "execute_result"
    }
   ],
   "source": [
    "l[4]"
   ]
  },
  {
   "cell_type": "code",
   "execution_count": 296,
   "id": "9171fdef-1749-4327-ae84-dd974d21a5a2",
   "metadata": {},
   "outputs": [
    {
     "data": {
      "text/plain": [
       "['sudh', 'kumar', 3543, (4+6j), True, 345.56]"
      ]
     },
     "execution_count": 296,
     "metadata": {},
     "output_type": "execute_result"
    }
   ],
   "source": [
    "l"
   ]
  },
  {
   "cell_type": "code",
   "execution_count": 298,
   "id": "33273501-efa3-4549-a905-73cb34b0afc3",
   "metadata": {},
   "outputs": [
    {
     "data": {
      "text/plain": [
       "['sudh', 'kumar', 3543, (4+6j)]"
      ]
     },
     "execution_count": 298,
     "metadata": {},
     "output_type": "execute_result"
    }
   ],
   "source": [
    "l[0:4]"
   ]
  },
  {
   "cell_type": "code",
   "execution_count": 300,
   "id": "996d2b33-e13c-44bc-b680-50363dcd7f51",
   "metadata": {},
   "outputs": [
    {
     "data": {
      "text/plain": [
       "[345.56, True, (4+6j), 3543, 'kumar', 'sudh']"
      ]
     },
     "execution_count": 300,
     "metadata": {},
     "output_type": "execute_result"
    }
   ],
   "source": [
    "l[::-1]"
   ]
  },
  {
   "cell_type": "code",
   "execution_count": 302,
   "id": "11466a07-3744-4ec5-978c-e8a0c88d51d0",
   "metadata": {},
   "outputs": [
    {
     "data": {
      "text/plain": [
       "[345.56]"
      ]
     },
     "execution_count": 302,
     "metadata": {},
     "output_type": "execute_result"
    }
   ],
   "source": [
    "l[-1:6]"
   ]
  },
  {
   "cell_type": "code",
   "execution_count": 304,
   "id": "8984661e-9008-42ca-be32-b1c9616ef357",
   "metadata": {},
   "outputs": [
    {
     "data": {
      "text/plain": [
       "'sudh'"
      ]
     },
     "execution_count": 304,
     "metadata": {},
     "output_type": "execute_result"
    }
   ],
   "source": [
    "l[0]"
   ]
  },
  {
   "cell_type": "code",
   "execution_count": 306,
   "id": "d9c5a0cd-e980-4f58-87a4-48c9dcfd9cc9",
   "metadata": {},
   "outputs": [
    {
     "data": {
      "text/plain": [
       "str"
      ]
     },
     "execution_count": 306,
     "metadata": {},
     "output_type": "execute_result"
    }
   ],
   "source": [
    "type(l[0])"
   ]
  },
  {
   "cell_type": "code",
   "execution_count": 308,
   "id": "b7ccb766-9073-46da-9efd-463c6e7f1b70",
   "metadata": {},
   "outputs": [
    {
     "data": {
      "text/plain": [
       "bool"
      ]
     },
     "execution_count": 308,
     "metadata": {},
     "output_type": "execute_result"
    }
   ],
   "source": [
    "type(l[4])"
   ]
  },
  {
   "cell_type": "code",
   "execution_count": 312,
   "id": "df1b0022-2d77-4a0a-88e0-b775f81ea040",
   "metadata": {},
   "outputs": [
    {
     "data": {
      "text/plain": [
       "'u'"
      ]
     },
     "execution_count": 312,
     "metadata": {},
     "output_type": "execute_result"
    }
   ],
   "source": [
    "l[0][1]"
   ]
  },
  {
   "cell_type": "code",
   "execution_count": 314,
   "id": "e0a1a7d1-25ee-463c-bd36-f4bb4420a615",
   "metadata": {},
   "outputs": [
    {
     "data": {
      "text/plain": [
       "(4+6j)"
      ]
     },
     "execution_count": 314,
     "metadata": {},
     "output_type": "execute_result"
    }
   ],
   "source": [
    "l[3]"
   ]
  },
  {
   "cell_type": "code",
   "execution_count": 316,
   "id": "0e8de473-b9c7-4928-be33-97c914dabb23",
   "metadata": {},
   "outputs": [
    {
     "data": {
      "text/plain": [
       "4.0"
      ]
     },
     "execution_count": 316,
     "metadata": {},
     "output_type": "execute_result"
    }
   ],
   "source": [
    "l[3] .real"
   ]
  },
  {
   "cell_type": "code",
   "execution_count": 318,
   "id": "b6908109-f13f-4483-a566-8b66432a0aef",
   "metadata": {},
   "outputs": [
    {
     "data": {
      "text/plain": [
       "6.0"
      ]
     },
     "execution_count": 318,
     "metadata": {},
     "output_type": "execute_result"
    }
   ],
   "source": [
    "l[3].imag"
   ]
  },
  {
   "cell_type": "code",
   "execution_count": 320,
   "id": "bee9e5f1-d269-4226-b7a1-de759e024a86",
   "metadata": {},
   "outputs": [],
   "source": [
    "l1 = [\"sudh\" , 'kumar' , 4356]\n",
    "l2 = [\"xyz\" , 'pqr' , 546.567]"
   ]
  },
  {
   "cell_type": "code",
   "execution_count": 322,
   "id": "4d646ff9-2143-4456-a8b0-8c903f525725",
   "metadata": {},
   "outputs": [
    {
     "data": {
      "text/plain": [
       "['sudh', 'kumar', 4356, 'xyz', 'pqr', 546.567]"
      ]
     },
     "execution_count": 322,
     "metadata": {},
     "output_type": "execute_result"
    }
   ],
   "source": [
    "l1+l2"
   ]
  },
  {
   "cell_type": "code",
   "execution_count": 326,
   "id": "2c51e2e2-63c5-4e6b-b40e-7312ad5c3d4e",
   "metadata": {},
   "outputs": [
    {
     "data": {
      "text/plain": [
       "['sudh', 'kumar', 4356, 'sudh']"
      ]
     },
     "execution_count": 326,
     "metadata": {},
     "output_type": "execute_result"
    }
   ],
   "source": [
    "l1 + 'sudh'"
   ]
  },
  {
   "cell_type": "code",
   "execution_count": 328,
   "id": "df92a6d0-12e4-43a6-ae6a-5f6bf7dc633e",
   "metadata": {},
   "outputs": [
    {
     "data": {
      "text/plain": [
       "['sudh', 'kumar', 4356, 'sudh']"
      ]
     },
     "execution_count": 328,
     "metadata": {},
     "output_type": "execute_result"
    }
   ],
   "source": [
    "l1 + ['sudh']"
   ]
  },
  {
   "cell_type": "code",
   "execution_count": 330,
   "id": "e2b512fc-d926-4ee0-80eb-3e9e7b303bff",
   "metadata": {},
   "outputs": [
    {
     "data": {
      "text/plain": [
       "['sudh',\n",
       " 'kumar',\n",
       " 4356,\n",
       " 'sudh',\n",
       " 'kumar',\n",
       " 4356,\n",
       " 'sudh',\n",
       " 'kumar',\n",
       " 4356,\n",
       " 'sudh',\n",
       " 'kumar',\n",
       " 4356]"
      ]
     },
     "execution_count": 330,
     "metadata": {},
     "output_type": "execute_result"
    }
   ],
   "source": [
    "l1*4"
   ]
  },
  {
   "cell_type": "code",
   "execution_count": 332,
   "id": "36b758a9-9aad-47dc-9ff1-4d19e910b8ee",
   "metadata": {},
   "outputs": [
    {
     "data": {
      "text/plain": [
       "['sudh', 'kumar', 4356]"
      ]
     },
     "execution_count": 332,
     "metadata": {},
     "output_type": "execute_result"
    }
   ],
   "source": [
    "l1"
   ]
  },
  {
   "cell_type": "code",
   "execution_count": 344,
   "id": "207aac33-2b82-454a-9948-0b01f3c6970f",
   "metadata": {},
   "outputs": [],
   "source": [
    "l1[0]=\"vinay\""
   ]
  },
  {
   "cell_type": "code",
   "execution_count": 346,
   "id": "fc519382-eb6f-4ff0-9918-2b0ccee70ff2",
   "metadata": {},
   "outputs": [
    {
     "data": {
      "text/plain": [
       "['vinay', 'kumar', 4356]"
      ]
     },
     "execution_count": 346,
     "metadata": {},
     "output_type": "execute_result"
    }
   ],
   "source": [
    "l1\n"
   ]
  },
  {
   "cell_type": "code",
   "execution_count": 348,
   "id": "7b2f5e2a-f412-47af-8712-a2a9bd7b0486",
   "metadata": {},
   "outputs": [
    {
     "data": {
      "text/plain": [
       "'kumar'"
      ]
     },
     "execution_count": 348,
     "metadata": {},
     "output_type": "execute_result"
    }
   ],
   "source": [
    "l1[1]"
   ]
  },
  {
   "cell_type": "code",
   "execution_count": 350,
   "id": "4b53f00f-92f2-4f29-a008-6b134c5a8a79",
   "metadata": {},
   "outputs": [
    {
     "data": {
      "text/plain": [
       "['vinay', 'kumar', 4356]"
      ]
     },
     "execution_count": 350,
     "metadata": {},
     "output_type": "execute_result"
    }
   ],
   "source": [
    "l1"
   ]
  },
  {
   "cell_type": "code",
   "execution_count": 352,
   "id": "8091f98c-9fdb-4b26-a4c2-12134f28b872",
   "metadata": {},
   "outputs": [
    {
     "data": {
      "text/plain": [
       "3"
      ]
     },
     "execution_count": 352,
     "metadata": {},
     "output_type": "execute_result"
    }
   ],
   "source": [
    "len(l1)"
   ]
  },
  {
   "cell_type": "code",
   "execution_count": 356,
   "id": "835ae871-3f55-44ad-b343-3340177811e0",
   "metadata": {},
   "outputs": [
    {
     "data": {
      "text/plain": [
       "True"
      ]
     },
     "execution_count": 356,
     "metadata": {},
     "output_type": "execute_result"
    }
   ],
   "source": [
    "\"kumar\" in l1"
   ]
  },
  {
   "cell_type": "code",
   "execution_count": 358,
   "id": "3aa617b8-0a9f-4e97-85fc-54b6143c844f",
   "metadata": {},
   "outputs": [
    {
     "data": {
      "text/plain": [
       "False"
      ]
     },
     "execution_count": 358,
     "metadata": {},
     "output_type": "execute_result"
    }
   ],
   "source": [
    "345 in l1"
   ]
  },
  {
   "cell_type": "code",
   "execution_count": 360,
   "id": "60bfe896-b709-4a56-9a67-2de4174a5079",
   "metadata": {},
   "outputs": [
    {
     "data": {
      "text/plain": [
       "['xyz', 'pqr', 546.567]"
      ]
     },
     "execution_count": 360,
     "metadata": {},
     "output_type": "execute_result"
    }
   ],
   "source": [
    "l2"
   ]
  },
  {
   "cell_type": "code",
   "execution_count": 364,
   "id": "c46a6469-e718-47d7-8e70-476ff0d93d58",
   "metadata": {},
   "outputs": [],
   "source": [
    "l2.append(\"sudh\")"
   ]
  },
  {
   "cell_type": "code",
   "execution_count": 366,
   "id": "c6fd06c4-2783-4c2e-a394-7717f35b2a3f",
   "metadata": {},
   "outputs": [
    {
     "data": {
      "text/plain": [
       "['xyz', 'pqr', 546.567, 'sudh']"
      ]
     },
     "execution_count": 366,
     "metadata": {},
     "output_type": "execute_result"
    }
   ],
   "source": [
    "l2"
   ]
  },
  {
   "cell_type": "code",
   "execution_count": 368,
   "id": "9f5eb9fa-67c5-4e35-94c5-cc396fe44edf",
   "metadata": {},
   "outputs": [
    {
     "data": {
      "text/plain": [
       "'sudh'"
      ]
     },
     "execution_count": 368,
     "metadata": {},
     "output_type": "execute_result"
    }
   ],
   "source": [
    "l2.pop()"
   ]
  },
  {
   "cell_type": "code",
   "execution_count": 370,
   "id": "2d659de3-9c7c-48f0-8578-2f8c5cf8e7e7",
   "metadata": {},
   "outputs": [
    {
     "data": {
      "text/plain": [
       "546.567"
      ]
     },
     "execution_count": 370,
     "metadata": {},
     "output_type": "execute_result"
    }
   ],
   "source": [
    "l2.pop(2)"
   ]
  },
  {
   "cell_type": "code",
   "execution_count": 372,
   "id": "a36d9753-a1b1-4f38-b707-e43676d41df1",
   "metadata": {},
   "outputs": [
    {
     "data": {
      "text/plain": [
       "['xyz', 'pqr']"
      ]
     },
     "execution_count": 372,
     "metadata": {},
     "output_type": "execute_result"
    }
   ],
   "source": [
    "l2"
   ]
  },
  {
   "cell_type": "code",
   "execution_count": 374,
   "id": "8b340835-d3b4-47c4-8748-478dfce6b6f9",
   "metadata": {},
   "outputs": [],
   "source": [
    "l2.append(345435)"
   ]
  },
  {
   "cell_type": "code",
   "execution_count": 376,
   "id": "16917933-09d9-4b74-9997-fe66ff9d4479",
   "metadata": {},
   "outputs": [
    {
     "data": {
      "text/plain": [
       "['xyz', 'pqr', 345435]"
      ]
     },
     "execution_count": 376,
     "metadata": {},
     "output_type": "execute_result"
    }
   ],
   "source": [
    "l2"
   ]
  },
  {
   "cell_type": "code",
   "execution_count": 378,
   "id": "8fb8621a-cecd-4823-9c97-167b0290655a",
   "metadata": {},
   "outputs": [],
   "source": [
    "l2.insert(1, \"abcde\")"
   ]
  },
  {
   "cell_type": "code",
   "execution_count": 380,
   "id": "ea555cb3-c87a-4aea-81f2-d075ff10e3a6",
   "metadata": {},
   "outputs": [
    {
     "data": {
      "text/plain": [
       "['xyz', 'abcde', 'pqr', 345435]"
      ]
     },
     "execution_count": 380,
     "metadata": {},
     "output_type": "execute_result"
    }
   ],
   "source": [
    "l2"
   ]
  },
  {
   "cell_type": "code",
   "execution_count": 382,
   "id": "17e91a81-08c3-4bb4-a102-13016b7b66c7",
   "metadata": {},
   "outputs": [],
   "source": [
    "l2.insert(3, [34,35,36,37])"
   ]
  },
  {
   "cell_type": "code",
   "execution_count": 386,
   "id": "5053aede-bdb7-49b8-8b96-2c3819c41cc9",
   "metadata": {},
   "outputs": [
    {
     "data": {
      "text/plain": [
       "['xyz', 'abcde', 'pqr', [34, 35, 36, 37], 345435]"
      ]
     },
     "execution_count": 386,
     "metadata": {},
     "output_type": "execute_result"
    }
   ],
   "source": [
    "l2"
   ]
  },
  {
   "cell_type": "code",
   "execution_count": 388,
   "id": "e800a846-cea3-49e3-a72d-5435a855b4c0",
   "metadata": {},
   "outputs": [
    {
     "data": {
      "text/plain": [
       "[345435, [34, 35, 36, 37], 'pqr', 'abcde', 'xyz']"
      ]
     },
     "execution_count": 388,
     "metadata": {},
     "output_type": "execute_result"
    }
   ],
   "source": [
    "l2[::-1]"
   ]
  },
  {
   "cell_type": "code",
   "execution_count": 390,
   "id": "b1c8d3ee-9564-4fd6-88aa-fd8dccbcd714",
   "metadata": {},
   "outputs": [],
   "source": [
    "l1.reverse()"
   ]
  },
  {
   "cell_type": "code",
   "execution_count": 392,
   "id": "3875d29c-2c51-4e29-907f-f7fe41536436",
   "metadata": {},
   "outputs": [
    {
     "data": {
      "text/plain": [
       "['xyz', 'abcde', 'pqr', [34, 35, 36, 37], 345435]"
      ]
     },
     "execution_count": 392,
     "metadata": {},
     "output_type": "execute_result"
    }
   ],
   "source": [
    "l2"
   ]
  },
  {
   "cell_type": "code",
   "execution_count": 394,
   "id": "2111ec40-a7d1-4509-85de-c543958204a2",
   "metadata": {},
   "outputs": [
    {
     "data": {
      "text/plain": [
       "[4356, 'kumar', 'vinay']"
      ]
     },
     "execution_count": 394,
     "metadata": {},
     "output_type": "execute_result"
    }
   ],
   "source": [
    "l1"
   ]
  },
  {
   "cell_type": "code",
   "execution_count": 396,
   "id": "14fce7db-3012-44f4-b021-862b628e4497",
   "metadata": {},
   "outputs": [
    {
     "data": {
      "text/plain": [
       "['xyz', 'abcde', 'pqr', [34, 35, 36, 37], 345435]"
      ]
     },
     "execution_count": 396,
     "metadata": {},
     "output_type": "execute_result"
    }
   ],
   "source": [
    "l2"
   ]
  },
  {
   "cell_type": "code",
   "execution_count": 398,
   "id": "78e90d3c-f83d-49e6-bf5a-c7e4f9f82ddc",
   "metadata": {},
   "outputs": [],
   "source": [
    "l2.reverse()"
   ]
  },
  {
   "cell_type": "code",
   "execution_count": 400,
   "id": "de8d8cdb-cb4d-4ca4-9a91-c9626ec1088e",
   "metadata": {},
   "outputs": [
    {
     "data": {
      "text/plain": [
       "[345435, [34, 35, 36, 37], 'pqr', 'abcde', 'xyz']"
      ]
     },
     "execution_count": 400,
     "metadata": {},
     "output_type": "execute_result"
    }
   ],
   "source": [
    "l2"
   ]
  },
  {
   "cell_type": "code",
   "execution_count": 402,
   "id": "63e0f969-a226-4f17-90ec-a408123dcd6c",
   "metadata": {},
   "outputs": [
    {
     "data": {
      "text/plain": [
       "[34, 35, 36, 37]"
      ]
     },
     "execution_count": 402,
     "metadata": {},
     "output_type": "execute_result"
    }
   ],
   "source": [
    "l2[1]"
   ]
  },
  {
   "cell_type": "code",
   "execution_count": 404,
   "id": "178670e6-6dbf-42fd-91b7-98ef25490895",
   "metadata": {},
   "outputs": [
    {
     "data": {
      "text/plain": [
       "36"
      ]
     },
     "execution_count": 404,
     "metadata": {},
     "output_type": "execute_result"
    }
   ],
   "source": [
    "l2[1][2]"
   ]
  },
  {
   "cell_type": "code",
   "execution_count": 406,
   "id": "46d8579f-2ced-42a1-a093-f628afa08b9f",
   "metadata": {},
   "outputs": [
    {
     "data": {
      "text/plain": [
       "[345435, [34, 35, 36, 37], 'pqr', 'abcde', 'xyz']"
      ]
     },
     "execution_count": 406,
     "metadata": {},
     "output_type": "execute_result"
    }
   ],
   "source": [
    "l2"
   ]
  },
  {
   "cell_type": "code",
   "execution_count": 410,
   "id": "450fcdd1-af12-4e0e-827f-3c3e6597c69f",
   "metadata": {},
   "outputs": [
    {
     "data": {
      "text/plain": [
       "1"
      ]
     },
     "execution_count": 410,
     "metadata": {},
     "output_type": "execute_result"
    }
   ],
   "source": [
    "l2.count('xyz')"
   ]
  },
  {
   "cell_type": "code",
   "execution_count": 412,
   "id": "44ae0e28-60dc-45e8-b4eb-9be6311f7245",
   "metadata": {},
   "outputs": [
    {
     "data": {
      "text/plain": [
       "0"
      ]
     },
     "execution_count": 412,
     "metadata": {},
     "output_type": "execute_result"
    }
   ],
   "source": [
    "l2.count('xyza')"
   ]
  },
  {
   "cell_type": "code",
   "execution_count": 416,
   "id": "14b96714-c290-4e58-912d-62ae711892be",
   "metadata": {},
   "outputs": [],
   "source": [
    "l2.append(\"adsfs\")"
   ]
  },
  {
   "cell_type": "code",
   "execution_count": 418,
   "id": "1e108fc8-71ca-4538-b314-8021c85e2353",
   "metadata": {},
   "outputs": [
    {
     "data": {
      "text/plain": [
       "[345435, [34, 35, 36, 37], 'pqr', 'abcde', 'xyz', 'adsfs']"
      ]
     },
     "execution_count": 418,
     "metadata": {},
     "output_type": "execute_result"
    }
   ],
   "source": [
    "l2"
   ]
  },
  {
   "cell_type": "code",
   "execution_count": 420,
   "id": "2577a7c6-07de-4748-94a4-75103ec99a69",
   "metadata": {},
   "outputs": [],
   "source": [
    "l2.append([3,4,54,6])"
   ]
  },
  {
   "cell_type": "code",
   "execution_count": 422,
   "id": "736c83df-059d-4a55-940c-a8f89c01676d",
   "metadata": {},
   "outputs": [
    {
     "data": {
      "text/plain": [
       "[345435, [34, 35, 36, 37], 'pqr', 'abcde', 'xyz', 'adsfs', [3, 4, 54, 6]]"
      ]
     },
     "execution_count": 422,
     "metadata": {},
     "output_type": "execute_result"
    }
   ],
   "source": [
    "l2"
   ]
  },
  {
   "cell_type": "code",
   "execution_count": 424,
   "id": "7b6215c4-8189-4994-b7e1-fb6228d2e0b9",
   "metadata": {},
   "outputs": [
    {
     "data": {
      "text/plain": [
       "[4356, 'kumar', 'vinay', 'adsfs']"
      ]
     },
     "execution_count": 424,
     "metadata": {},
     "output_type": "execute_result"
    }
   ],
   "source": [
    "l1"
   ]
  },
  {
   "cell_type": "code",
   "execution_count": 428,
   "id": "7cf9aab9-8225-47f4-81cd-eebd6d0c661a",
   "metadata": {},
   "outputs": [],
   "source": [
    "l1.extend([2, 54, 545, 'sgs'])"
   ]
  },
  {
   "cell_type": "code",
   "execution_count": 430,
   "id": "d595761d-d674-4ffb-8485-4ad8b842c9f4",
   "metadata": {},
   "outputs": [
    {
     "data": {
      "text/plain": [
       "[4356, 'kumar', 'vinay', 'adsfs', 2, 54, 545, 'sgs']"
      ]
     },
     "execution_count": 430,
     "metadata": {},
     "output_type": "execute_result"
    }
   ],
   "source": [
    "l1"
   ]
  }
 ],
 "metadata": {
  "kernelspec": {
   "display_name": "Python [conda env:base] *",
   "language": "python",
   "name": "conda-base-py"
  },
  "language_info": {
   "codemirror_mode": {
    "name": "ipython",
    "version": 3
   },
   "file_extension": ".py",
   "mimetype": "text/x-python",
   "name": "python",
   "nbconvert_exporter": "python",
   "pygments_lexer": "ipython3",
   "version": "3.12.7"
  }
 },
 "nbformat": 4,
 "nbformat_minor": 5
}
