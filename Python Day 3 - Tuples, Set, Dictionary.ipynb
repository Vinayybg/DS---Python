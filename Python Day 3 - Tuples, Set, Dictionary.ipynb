{
 "cells": [
  {
   "cell_type": "markdown",
   "id": "14df7c59-6c83-4789-ae91-0fd1bf871480",
   "metadata": {},
   "source": [
    "Tuples:"
   ]
  },
  {
   "cell_type": "code",
   "execution_count": 2,
   "id": "33ef7698-b952-4f71-8bf4-5fabc45df835",
   "metadata": {},
   "outputs": [],
   "source": [
    " t = (1,2,3,4,5)"
   ]
  },
  {
   "cell_type": "code",
   "execution_count": 4,
   "id": "4e5cae26-3983-4ab1-8244-9adcfcafda9e",
   "metadata": {},
   "outputs": [
    {
     "data": {
      "text/plain": [
       "tuple"
      ]
     },
     "execution_count": 4,
     "metadata": {},
     "output_type": "execute_result"
    }
   ],
   "source": [
    "type(t)"
   ]
  },
  {
   "cell_type": "code",
   "execution_count": 33,
   "id": "06d0dc9a-346b-4765-9dfe-261989d9a066",
   "metadata": {},
   "outputs": [],
   "source": [
    "t1 = (\"sudh\" , 345 , 45+78j , 45.56 , True)"
   ]
  },
  {
   "cell_type": "code",
   "execution_count": 35,
   "id": "2a1e0c71-d7d5-4b21-a1de-7001a106bbd9",
   "metadata": {},
   "outputs": [],
   "source": [
    "l = [\"sudh\" , 345 , 45+78j , 45.56 , True]"
   ]
  },
  {
   "cell_type": "code",
   "execution_count": 37,
   "id": "7c1c4d7b-2dbe-4c44-94f4-ab1d2f143039",
   "metadata": {},
   "outputs": [
    {
     "data": {
      "text/plain": [
       "tuple"
      ]
     },
     "execution_count": 37,
     "metadata": {},
     "output_type": "execute_result"
    }
   ],
   "source": [
    "type(t1)"
   ]
  },
  {
   "cell_type": "code",
   "execution_count": 39,
   "id": "e21c08ec-2b7f-47a5-bd8a-fd28bbb4a0f6",
   "metadata": {},
   "outputs": [
    {
     "data": {
      "text/plain": [
       "list"
      ]
     },
     "execution_count": 39,
     "metadata": {},
     "output_type": "execute_result"
    }
   ],
   "source": [
    "type(l)"
   ]
  },
  {
   "cell_type": "code",
   "execution_count": 41,
   "id": "08b2ee66-5d84-4bb0-b5bf-7040912ebfc3",
   "metadata": {},
   "outputs": [],
   "source": [
    "t2 = ()"
   ]
  },
  {
   "cell_type": "code",
   "execution_count": 43,
   "id": "e24700d8-1006-47d3-87cb-c95b8cf257ce",
   "metadata": {},
   "outputs": [
    {
     "data": {
      "text/plain": [
       "tuple"
      ]
     },
     "execution_count": 43,
     "metadata": {},
     "output_type": "execute_result"
    }
   ],
   "source": [
    "type(t2)"
   ]
  },
  {
   "cell_type": "code",
   "execution_count": 45,
   "id": "f5f5606f-c2b6-4bbf-8506-b14c6b0b1951",
   "metadata": {},
   "outputs": [
    {
     "data": {
      "text/plain": [
       "('sudh', 345, (45+78j), 45.56, True)"
      ]
     },
     "execution_count": 45,
     "metadata": {},
     "output_type": "execute_result"
    }
   ],
   "source": [
    "t1"
   ]
  },
  {
   "cell_type": "code",
   "execution_count": 47,
   "id": "526e24f3-27d0-4c1d-9432-c8f553c74c4b",
   "metadata": {},
   "outputs": [
    {
     "data": {
      "text/plain": [
       "['sudh', 345, (45+78j), 45.56, True]"
      ]
     },
     "execution_count": 47,
     "metadata": {},
     "output_type": "execute_result"
    }
   ],
   "source": [
    "l"
   ]
  },
  {
   "cell_type": "code",
   "execution_count": 49,
   "id": "a7d7d8c8-bc01-404f-aac1-3b02c89ba930",
   "metadata": {},
   "outputs": [
    {
     "data": {
      "text/plain": [
       "['sudh', 345]"
      ]
     },
     "execution_count": 49,
     "metadata": {},
     "output_type": "execute_result"
    }
   ],
   "source": [
    "l[0:2]"
   ]
  },
  {
   "cell_type": "code",
   "execution_count": 51,
   "id": "e87fc724-add6-46d3-80e2-ccfd8625e107",
   "metadata": {},
   "outputs": [
    {
     "data": {
      "text/plain": [
       "('sudh', 345)"
      ]
     },
     "execution_count": 51,
     "metadata": {},
     "output_type": "execute_result"
    }
   ],
   "source": [
    "t1[0:2]"
   ]
  },
  {
   "cell_type": "code",
   "execution_count": 57,
   "id": "7328bcc9-a13c-46df-b72a-e7e54959e41c",
   "metadata": {},
   "outputs": [
    {
     "data": {
      "text/plain": [
       "(True, 45.56, (45+78j), 345, 'sudh')"
      ]
     },
     "execution_count": 57,
     "metadata": {},
     "output_type": "execute_result"
    }
   ],
   "source": [
    "t1 [::-1]"
   ]
  },
  {
   "cell_type": "code",
   "execution_count": 61,
   "id": "82e59fe1-c731-43a0-a7fc-6746ddd60daf",
   "metadata": {},
   "outputs": [
    {
     "data": {
      "text/plain": [
       "True"
      ]
     },
     "execution_count": 61,
     "metadata": {},
     "output_type": "execute_result"
    }
   ],
   "source": [
    "t1 [-1]"
   ]
  },
  {
   "cell_type": "code",
   "execution_count": 63,
   "id": "89511394-040f-4c52-a76d-83aa807172eb",
   "metadata": {},
   "outputs": [
    {
     "data": {
      "text/plain": [
       "('sudh', (45+78j), True)"
      ]
     },
     "execution_count": 63,
     "metadata": {},
     "output_type": "execute_result"
    }
   ],
   "source": [
    "t1[0::2]"
   ]
  },
  {
   "cell_type": "code",
   "execution_count": 65,
   "id": "7ac916b0-d1b9-4e7c-bb61-109b040274e7",
   "metadata": {},
   "outputs": [
    {
     "data": {
      "text/plain": [
       "['sudh', 345, (45+78j), 45.56, True]"
      ]
     },
     "execution_count": 65,
     "metadata": {},
     "output_type": "execute_result"
    }
   ],
   "source": [
    "l"
   ]
  },
  {
   "cell_type": "code",
   "execution_count": 67,
   "id": "2b392ed0-4003-4324-91be-73b3cf9d0b98",
   "metadata": {},
   "outputs": [],
   "source": [
    "l1 = [4,5,6,7]"
   ]
  },
  {
   "cell_type": "code",
   "execution_count": 69,
   "id": "8d3182c7-3b46-4dad-b284-db093753b9f5",
   "metadata": {},
   "outputs": [
    {
     "data": {
      "text/plain": [
       "'sudh'"
      ]
     },
     "execution_count": 69,
     "metadata": {},
     "output_type": "execute_result"
    }
   ],
   "source": [
    "l[0]"
   ]
  },
  {
   "cell_type": "code",
   "execution_count": 71,
   "id": "7db71437-f9a4-4498-af19-f3490b398065",
   "metadata": {},
   "outputs": [],
   "source": [
    "l[0] = \"kumar\""
   ]
  },
  {
   "cell_type": "code",
   "execution_count": 73,
   "id": "09885eba-a07d-48f5-b437-d8198400fa42",
   "metadata": {},
   "outputs": [
    {
     "data": {
      "text/plain": [
       "['kumar', 345, (45+78j), 45.56, True]"
      ]
     },
     "execution_count": 73,
     "metadata": {},
     "output_type": "execute_result"
    }
   ],
   "source": [
    "l"
   ]
  },
  {
   "cell_type": "code",
   "execution_count": 75,
   "id": "47ab6be9-ecf2-462b-98de-26c3737d5518",
   "metadata": {},
   "outputs": [
    {
     "data": {
      "text/plain": [
       "('sudh', 345, (45+78j), 45.56, True)"
      ]
     },
     "execution_count": 75,
     "metadata": {},
     "output_type": "execute_result"
    }
   ],
   "source": [
    "t1"
   ]
  },
  {
   "cell_type": "code",
   "execution_count": 77,
   "id": "e7afb2e5-cb56-4d71-af9b-ee4535ff2b78",
   "metadata": {},
   "outputs": [
    {
     "data": {
      "text/plain": [
       "'sudh'"
      ]
     },
     "execution_count": 77,
     "metadata": {},
     "output_type": "execute_result"
    }
   ],
   "source": [
    "t1[0]"
   ]
  },
  {
   "cell_type": "code",
   "execution_count": 79,
   "id": "c6105370-494e-40c7-a813-8ea8e3da7128",
   "metadata": {},
   "outputs": [
    {
     "ename": "TypeError",
     "evalue": "'tuple' object does not support item assignment",
     "output_type": "error",
     "traceback": [
      "\u001b[0;31m---------------------------------------------------------------------------\u001b[0m",
      "\u001b[0;31mTypeError\u001b[0m                                 Traceback (most recent call last)",
      "Cell \u001b[0;32mIn[79], line 1\u001b[0m\n\u001b[0;32m----> 1\u001b[0m t1[\u001b[38;5;241m0\u001b[39m] \u001b[38;5;241m=\u001b[39m \u001b[38;5;124m\"\u001b[39m\u001b[38;5;124mxyz\u001b[39m\u001b[38;5;124m\"\u001b[39m\n",
      "\u001b[0;31mTypeError\u001b[0m: 'tuple' object does not support item assignment"
     ]
    }
   ],
   "source": [
    "t1[0] = \"xyz\""
   ]
  },
  {
   "cell_type": "code",
   "execution_count": 81,
   "id": "9125bcfe-32f1-4605-bde6-19bfa64535f0",
   "metadata": {},
   "outputs": [],
   "source": [
    "s  = \"sudh\""
   ]
  },
  {
   "cell_type": "code",
   "execution_count": 83,
   "id": "73e42c66-d734-47ec-a70f-c7ac047cfbfb",
   "metadata": {},
   "outputs": [
    {
     "data": {
      "text/plain": [
       "'s'"
      ]
     },
     "execution_count": 83,
     "metadata": {},
     "output_type": "execute_result"
    }
   ],
   "source": [
    "s[0]"
   ]
  },
  {
   "cell_type": "code",
   "execution_count": 85,
   "id": "4255293e-b109-49e5-bc22-fe5479d7b8ce",
   "metadata": {},
   "outputs": [
    {
     "ename": "TypeError",
     "evalue": "'str' object does not support item assignment",
     "output_type": "error",
     "traceback": [
      "\u001b[0;31m---------------------------------------------------------------------------\u001b[0m",
      "\u001b[0;31mTypeError\u001b[0m                                 Traceback (most recent call last)",
      "Cell \u001b[0;32mIn[85], line 1\u001b[0m\n\u001b[0;32m----> 1\u001b[0m s[\u001b[38;5;241m0\u001b[39m] \u001b[38;5;241m=\u001b[39m \u001b[38;5;241m45\u001b[39m\n",
      "\u001b[0;31mTypeError\u001b[0m: 'str' object does not support item assignment"
     ]
    }
   ],
   "source": [
    "s[0] = 45"
   ]
  },
  {
   "cell_type": "code",
   "execution_count": 87,
   "id": "e6998d66-4390-421c-8d7e-5eadf923a49a",
   "metadata": {},
   "outputs": [
    {
     "data": {
      "text/plain": [
       "('sudh', 345, (45+78j), 45.56, True)"
      ]
     },
     "execution_count": 87,
     "metadata": {},
     "output_type": "execute_result"
    }
   ],
   "source": [
    "t1"
   ]
  },
  {
   "cell_type": "code",
   "execution_count": 89,
   "id": "32803a93-059a-48d3-b9d0-84b68722fdf8",
   "metadata": {},
   "outputs": [],
   "source": [
    "t2 = (234, 56, 78, 123, 876)"
   ]
  },
  {
   "cell_type": "code",
   "execution_count": 91,
   "id": "27d5d1df-ef9e-43b3-9282-86e65e69e59d",
   "metadata": {},
   "outputs": [
    {
     "data": {
      "text/plain": [
       "('sudh', 345, (45+78j), 45.56, True, 234, 56, 78, 123, 876)"
      ]
     },
     "execution_count": 91,
     "metadata": {},
     "output_type": "execute_result"
    }
   ],
   "source": [
    "t1+t2"
   ]
  },
  {
   "cell_type": "code",
   "execution_count": 93,
   "id": "93890cb0-b0b7-4845-8d31-f8b59bc5e6fd",
   "metadata": {},
   "outputs": [
    {
     "data": {
      "text/plain": [
       "[4, 5, 6, 7]"
      ]
     },
     "execution_count": 93,
     "metadata": {},
     "output_type": "execute_result"
    }
   ],
   "source": [
    "l1"
   ]
  },
  {
   "cell_type": "code",
   "execution_count": 95,
   "id": "30aa0ab1-c234-4670-8a6f-da52a79e0bf0",
   "metadata": {},
   "outputs": [
    {
     "data": {
      "text/plain": [
       "['kumar', 345, (45+78j), 45.56, True, 4, 5, 6, 7]"
      ]
     },
     "execution_count": 95,
     "metadata": {},
     "output_type": "execute_result"
    }
   ],
   "source": [
    "l+l1"
   ]
  },
  {
   "cell_type": "code",
   "execution_count": 97,
   "id": "aa1b0372-062c-4ff9-88d0-86ebe610b7d7",
   "metadata": {},
   "outputs": [
    {
     "data": {
      "text/plain": [
       "('sudh', 345, (45+78j), 45.56, True)"
      ]
     },
     "execution_count": 97,
     "metadata": {},
     "output_type": "execute_result"
    }
   ],
   "source": [
    "t1\n"
   ]
  },
  {
   "cell_type": "code",
   "execution_count": 99,
   "id": "c9f88600-e2db-4db9-9930-d529500fd0e8",
   "metadata": {},
   "outputs": [
    {
     "data": {
      "text/plain": [
       "('sudh', 345, (45+78j), 45.56, True, 'sudh', 345, (45+78j), 45.56, True)"
      ]
     },
     "execution_count": 99,
     "metadata": {},
     "output_type": "execute_result"
    }
   ],
   "source": [
    "t1*2"
   ]
  },
  {
   "cell_type": "code",
   "execution_count": 101,
   "id": "8433d812-19d6-415f-b3a3-f91fb9daa870",
   "metadata": {},
   "outputs": [
    {
     "data": {
      "text/plain": [
       "('sudh', 345, (45+78j), 45.56, True)"
      ]
     },
     "execution_count": 101,
     "metadata": {},
     "output_type": "execute_result"
    }
   ],
   "source": [
    "t1"
   ]
  },
  {
   "cell_type": "code",
   "execution_count": 107,
   "id": "aff0807d-dcae-4792-8fd7-09dedf557359",
   "metadata": {},
   "outputs": [
    {
     "data": {
      "text/plain": [
       "1"
      ]
     },
     "execution_count": 107,
     "metadata": {},
     "output_type": "execute_result"
    }
   ],
   "source": [
    "t1.count('sudh')"
   ]
  },
  {
   "cell_type": "code",
   "execution_count": 109,
   "id": "c096b040-81be-4035-96d6-58c432e07c40",
   "metadata": {},
   "outputs": [
    {
     "data": {
      "text/plain": [
       "0"
      ]
     },
     "execution_count": 109,
     "metadata": {},
     "output_type": "execute_result"
    }
   ],
   "source": [
    "t1.index('sudh')"
   ]
  },
  {
   "cell_type": "code",
   "execution_count": 111,
   "id": "34fe4670-129f-4136-bd39-6aaec444e03a",
   "metadata": {},
   "outputs": [],
   "source": [
    "t =(1,2,3,4,5, (6,7,8,9), (\"sudh\"))"
   ]
  },
  {
   "cell_type": "code",
   "execution_count": 115,
   "id": "71ed28eb-d063-4310-b15e-d058c8fe2585",
   "metadata": {},
   "outputs": [],
   "source": [
    "t1 =  ([3,4,5,6,7],   (\"sudh\", 456, 67 ) , \"vinay\")"
   ]
  },
  {
   "cell_type": "code",
   "execution_count": 117,
   "id": "efc4f77e-05fa-4e0b-afc2-eed6f6f5f31d",
   "metadata": {},
   "outputs": [
    {
     "ename": "TypeError",
     "evalue": "'tuple' object does not support item assignment",
     "output_type": "error",
     "traceback": [
      "\u001b[0;31m---------------------------------------------------------------------------\u001b[0m",
      "\u001b[0;31mTypeError\u001b[0m                                 Traceback (most recent call last)",
      "Cell \u001b[0;32mIn[117], line 1\u001b[0m\n\u001b[0;32m----> 1\u001b[0m t1[\u001b[38;5;241m0\u001b[39m] \u001b[38;5;241m=\u001b[39m \u001b[38;5;124m\"\u001b[39m\u001b[38;5;124mvinay\u001b[39m\u001b[38;5;124m\"\u001b[39m\n",
      "\u001b[0;31mTypeError\u001b[0m: 'tuple' object does not support item assignment"
     ]
    }
   ],
   "source": [
    "t1[0] = \"vinay\""
   ]
  },
  {
   "cell_type": "code",
   "execution_count": 119,
   "id": "6508699a-a3b1-4a91-9980-87780df1fdca",
   "metadata": {},
   "outputs": [],
   "source": [
    "t1[0][2] = \"vinay\""
   ]
  },
  {
   "cell_type": "code",
   "execution_count": 121,
   "id": "8fecc9bb-b122-4697-90b4-a9ad784a713a",
   "metadata": {},
   "outputs": [
    {
     "data": {
      "text/plain": [
       "[3, 4, 'vinay', 6, 7]"
      ]
     },
     "execution_count": 121,
     "metadata": {},
     "output_type": "execute_result"
    }
   ],
   "source": [
    "t1[0]"
   ]
  },
  {
   "cell_type": "code",
   "execution_count": 123,
   "id": "ba895377-5d6f-4bcb-baef-6c2f40315d74",
   "metadata": {},
   "outputs": [
    {
     "data": {
      "text/plain": [
       "([3, 4, 'vinay', 6, 7], ('sudh', 456, 67), 'vinay')"
      ]
     },
     "execution_count": 123,
     "metadata": {},
     "output_type": "execute_result"
    }
   ],
   "source": [
    "t1"
   ]
  },
  {
   "cell_type": "code",
   "execution_count": 127,
   "id": "a967189a-a21d-4135-bb80-e00257cad833",
   "metadata": {},
   "outputs": [],
   "source": [
    "t1 = (53,435,6,56,5,45,4)"
   ]
  },
  {
   "cell_type": "code",
   "execution_count": 131,
   "id": "a74b4016-c3b5-4024-b3ed-5ca3261688bf",
   "metadata": {},
   "outputs": [],
   "source": [
    "l = list(t1)"
   ]
  },
  {
   "cell_type": "code",
   "execution_count": 133,
   "id": "ed99e0cb-62e7-4ae1-a841-ec7c2ab96938",
   "metadata": {},
   "outputs": [
    {
     "data": {
      "text/plain": [
       "[53, 435, 6, 56, 5, 45, 4]"
      ]
     },
     "execution_count": 133,
     "metadata": {},
     "output_type": "execute_result"
    }
   ],
   "source": [
    "l "
   ]
  },
  {
   "cell_type": "code",
   "execution_count": 137,
   "id": "2aad333d-1dc1-44b3-9c78-22cfcb6a1457",
   "metadata": {},
   "outputs": [],
   "source": [
    "t10 = tuple(l)"
   ]
  },
  {
   "cell_type": "code",
   "execution_count": 139,
   "id": "ec554b84-43e9-4613-978d-911204769a56",
   "metadata": {},
   "outputs": [
    {
     "data": {
      "text/plain": [
       "(53, 435, 6, 56, 5, 45, 4)"
      ]
     },
     "execution_count": 139,
     "metadata": {},
     "output_type": "execute_result"
    }
   ],
   "source": [
    "t10"
   ]
  },
  {
   "cell_type": "markdown",
   "id": "55b8a07d-aec7-4c71-8118-d1a26d878c65",
   "metadata": {},
   "source": [
    "SET"
   ]
  },
  {
   "cell_type": "code",
   "execution_count": 146,
   "id": "d4489538-3fb2-43ea-9822-6ee328eefd58",
   "metadata": {},
   "outputs": [],
   "source": [
    "l = [2,3,4,5,6,5,3,3,33,3,56,7,6,5,4,3,2,2,6,7,7,7]"
   ]
  },
  {
   "cell_type": "code",
   "execution_count": 148,
   "id": "e46d74cf-cebd-44a9-8f78-c89f0e1c105c",
   "metadata": {},
   "outputs": [
    {
     "data": {
      "text/plain": [
       "{2, 3, 4, 5, 6, 7, 33, 56}"
      ]
     },
     "execution_count": 148,
     "metadata": {},
     "output_type": "execute_result"
    }
   ],
   "source": [
    "set(l)"
   ]
  },
  {
   "cell_type": "code",
   "execution_count": 150,
   "id": "23e1dfc6-83f5-420d-8451-8efaf6ab1724",
   "metadata": {},
   "outputs": [],
   "source": [
    "s={}"
   ]
  },
  {
   "cell_type": "code",
   "execution_count": 154,
   "id": "38d6b4f5-7817-4980-a3f4-9baedc6992f9",
   "metadata": {},
   "outputs": [
    {
     "data": {
      "text/plain": [
       "dict"
      ]
     },
     "execution_count": 154,
     "metadata": {},
     "output_type": "execute_result"
    }
   ],
   "source": [
    "type(s)"
   ]
  },
  {
   "cell_type": "code",
   "execution_count": 156,
   "id": "17443932-360b-43bb-a640-35b7d33bbcdb",
   "metadata": {},
   "outputs": [],
   "source": [
    "s1 ={1,2,3,4,5}"
   ]
  },
  {
   "cell_type": "code",
   "execution_count": 158,
   "id": "40925cb3-59a9-4399-af62-3f34651b589f",
   "metadata": {},
   "outputs": [
    {
     "data": {
      "text/plain": [
       "set"
      ]
     },
     "execution_count": 158,
     "metadata": {},
     "output_type": "execute_result"
    }
   ],
   "source": [
    "type(s1)"
   ]
  },
  {
   "cell_type": "code",
   "execution_count": 166,
   "id": "31a0fa4f-c262-4910-9d29-14ee94b317cb",
   "metadata": {},
   "outputs": [],
   "source": [
    "s2={1,1,2,2,3,54,6,6,4,3,2,4,6,11,2,4}"
   ]
  },
  {
   "cell_type": "code",
   "execution_count": 168,
   "id": "ba9f8e77-791a-464d-9b17-70dc54a186d2",
   "metadata": {},
   "outputs": [
    {
     "data": {
      "text/plain": [
       "{1, 2, 3, 4, 6, 11, 54}"
      ]
     },
     "execution_count": 168,
     "metadata": {},
     "output_type": "execute_result"
    }
   ],
   "source": [
    "s2"
   ]
  },
  {
   "cell_type": "code",
   "execution_count": 170,
   "id": "51ac28f2-5ed2-4b24-a948-e97f3a3f8d1b",
   "metadata": {},
   "outputs": [
    {
     "ename": "TypeError",
     "evalue": "'set' object is not subscriptable",
     "output_type": "error",
     "traceback": [
      "\u001b[0;31m---------------------------------------------------------------------------\u001b[0m",
      "\u001b[0;31mTypeError\u001b[0m                                 Traceback (most recent call last)",
      "Cell \u001b[0;32mIn[170], line 1\u001b[0m\n\u001b[0;32m----> 1\u001b[0m s2[\u001b[38;5;241m0\u001b[39m]\n",
      "\u001b[0;31mTypeError\u001b[0m: 'set' object is not subscriptable"
     ]
    }
   ],
   "source": [
    "s2[0]"
   ]
  },
  {
   "cell_type": "code",
   "execution_count": 172,
   "id": "e6d4a8ed-3892-43b4-9cd0-e7a4c65b866c",
   "metadata": {},
   "outputs": [
    {
     "data": {
      "text/plain": [
       "[1, 2, 3, 4, 6, 54, 11]"
      ]
     },
     "execution_count": 172,
     "metadata": {},
     "output_type": "execute_result"
    }
   ],
   "source": [
    "list(s2)"
   ]
  },
  {
   "cell_type": "code",
   "execution_count": 176,
   "id": "933ce026-7f37-42a6-abd6-06e5f71678d0",
   "metadata": {},
   "outputs": [
    {
     "data": {
      "text/plain": [
       "{1, 2, 3, 4, 6, 11, 54}"
      ]
     },
     "execution_count": 176,
     "metadata": {},
     "output_type": "execute_result"
    }
   ],
   "source": [
    "s2\n"
   ]
  },
  {
   "cell_type": "code",
   "execution_count": 178,
   "id": "e8c68bee-36f8-4064-aa47-8862d8a9da5a",
   "metadata": {},
   "outputs": [],
   "source": [
    "s2.add(778987)"
   ]
  },
  {
   "cell_type": "code",
   "execution_count": 180,
   "id": "b2229e28-e822-4172-a7c9-d48971c4db98",
   "metadata": {},
   "outputs": [
    {
     "data": {
      "text/plain": [
       "{1, 2, 3, 4, 6, 11, 54, 778987}"
      ]
     },
     "execution_count": 180,
     "metadata": {},
     "output_type": "execute_result"
    }
   ],
   "source": [
    "s2\n"
   ]
  },
  {
   "cell_type": "code",
   "execution_count": 182,
   "id": "60a9818d-faa5-42b1-9932-a318c33f2472",
   "metadata": {},
   "outputs": [],
   "source": [
    "s2.add(\"vinay\")"
   ]
  },
  {
   "cell_type": "code",
   "execution_count": 184,
   "id": "af742e34-3eb7-45d3-bc6a-734049b2f6be",
   "metadata": {},
   "outputs": [
    {
     "data": {
      "text/plain": [
       "{1, 11, 2, 3, 4, 54, 6, 778987, 'vinay'}"
      ]
     },
     "execution_count": 184,
     "metadata": {},
     "output_type": "execute_result"
    }
   ],
   "source": [
    "s2"
   ]
  },
  {
   "cell_type": "code",
   "execution_count": 186,
   "id": "d0c2c441-0864-439b-aac5-46d894f9556b",
   "metadata": {},
   "outputs": [
    {
     "ename": "TypeError",
     "evalue": "unhashable type: 'list'",
     "output_type": "error",
     "traceback": [
      "\u001b[0;31m---------------------------------------------------------------------------\u001b[0m",
      "\u001b[0;31mTypeError\u001b[0m                                 Traceback (most recent call last)",
      "Cell \u001b[0;32mIn[186], line 1\u001b[0m\n\u001b[0;32m----> 1\u001b[0m s2\u001b[38;5;241m.\u001b[39madd([\u001b[38;5;241m1\u001b[39m,\u001b[38;5;241m2\u001b[39m,\u001b[38;5;241m3\u001b[39m,\u001b[38;5;241m4\u001b[39m,\u001b[38;5;241m5\u001b[39m])\n",
      "\u001b[0;31mTypeError\u001b[0m: unhashable type: 'list'"
     ]
    }
   ],
   "source": [
    "s2.add([1,2,3,4,5])"
   ]
  },
  {
   "cell_type": "code",
   "execution_count": 188,
   "id": "f01e158d-e30e-49c0-a61a-ad7100dc0452",
   "metadata": {},
   "outputs": [
    {
     "ename": "TypeError",
     "evalue": "unhashable type: 'list'",
     "output_type": "error",
     "traceback": [
      "\u001b[0;31m---------------------------------------------------------------------------\u001b[0m",
      "\u001b[0;31mTypeError\u001b[0m                                 Traceback (most recent call last)",
      "Cell \u001b[0;32mIn[188], line 1\u001b[0m\n\u001b[0;32m----> 1\u001b[0m {[\u001b[38;5;241m1\u001b[39m,\u001b[38;5;241m2\u001b[39m,\u001b[38;5;241m3\u001b[39m,\u001b[38;5;241m4\u001b[39m,\u001b[38;5;241m5\u001b[39m], \u001b[38;5;241m3\u001b[39m,\u001b[38;5;241m4\u001b[39m,\u001b[38;5;241m5\u001b[39m,\u001b[38;5;241m6\u001b[39m,\u001b[38;5;241m7\u001b[39m,\u001b[38;5;241m8\u001b[39m}\n",
      "\u001b[0;31mTypeError\u001b[0m: unhashable type: 'list'"
     ]
    }
   ],
   "source": [
    "{[1,2,3,4,5], 3,4,5,6,7,8}"
   ]
  },
  {
   "cell_type": "code",
   "execution_count": 190,
   "id": "86e42cf1-1c0d-4b93-a979-31230c2439ec",
   "metadata": {},
   "outputs": [
    {
     "data": {
      "text/plain": [
       "{(1, 2, 3, 4, 5), 3, 4, 5, 6, 7, 8}"
      ]
     },
     "execution_count": 190,
     "metadata": {},
     "output_type": "execute_result"
    }
   ],
   "source": [
    "{(1,2,3,4,5), 3,4,5,6,7,8}"
   ]
  },
  {
   "cell_type": "code",
   "execution_count": 192,
   "id": "2289ccd5-67b7-4dbe-bdcd-0c1087c672ff",
   "metadata": {},
   "outputs": [
    {
     "data": {
      "text/plain": [
       "{(1, 2, 3, 4, 5), 3, 4, 5, 6, 7, 8}"
      ]
     },
     "execution_count": 192,
     "metadata": {},
     "output_type": "execute_result"
    }
   ],
   "source": [
    "{(1,2,3,4,5),(1,2,3,4,5), 3,4,5,6,7,8}"
   ]
  },
  {
   "cell_type": "code",
   "execution_count": 194,
   "id": "bd1ec70b-35b3-41b6-af62-4d144a76966a",
   "metadata": {},
   "outputs": [],
   "source": [
    "s = {(1,2,3,4,5), 3,4,5,6,7,8}"
   ]
  },
  {
   "cell_type": "code",
   "execution_count": 196,
   "id": "869ded5b-ee09-4a3f-9efc-90a1e57bf9c0",
   "metadata": {},
   "outputs": [],
   "source": [
    "s.remove(4)"
   ]
  },
  {
   "cell_type": "code",
   "execution_count": 198,
   "id": "836e8f05-6b16-4295-af47-faabe1287c1d",
   "metadata": {},
   "outputs": [
    {
     "data": {
      "text/plain": [
       "{(1, 2, 3, 4, 5), 3, 5, 6, 7, 8}"
      ]
     },
     "execution_count": 198,
     "metadata": {},
     "output_type": "execute_result"
    }
   ],
   "source": [
    "s"
   ]
  },
  {
   "cell_type": "code",
   "execution_count": 200,
   "id": "28427db9-5c9b-4c8f-9c15-85e8b99adb6b",
   "metadata": {},
   "outputs": [],
   "source": [
    "s.discard(5)"
   ]
  },
  {
   "cell_type": "code",
   "execution_count": 202,
   "id": "d4253770-ce66-456c-9652-34f4605d43b6",
   "metadata": {},
   "outputs": [
    {
     "data": {
      "text/plain": [
       "{(1, 2, 3, 4, 5), 3, 6, 7, 8}"
      ]
     },
     "execution_count": 202,
     "metadata": {},
     "output_type": "execute_result"
    }
   ],
   "source": [
    "s"
   ]
  },
  {
   "cell_type": "code",
   "execution_count": 204,
   "id": "1ad8d36e-fbdc-407d-a323-894ccfe8c45b",
   "metadata": {},
   "outputs": [
    {
     "ename": "KeyError",
     "evalue": "45",
     "output_type": "error",
     "traceback": [
      "\u001b[0;31m---------------------------------------------------------------------------\u001b[0m",
      "\u001b[0;31mKeyError\u001b[0m                                  Traceback (most recent call last)",
      "Cell \u001b[0;32mIn[204], line 1\u001b[0m\n\u001b[0;32m----> 1\u001b[0m s\u001b[38;5;241m.\u001b[39mremove(\u001b[38;5;241m45\u001b[39m)\n",
      "\u001b[0;31mKeyError\u001b[0m: 45"
     ]
    }
   ],
   "source": [
    "s.remove(45)"
   ]
  },
  {
   "cell_type": "code",
   "execution_count": 208,
   "id": "e9246b26-0f13-4c19-8e20-0362185a3e8c",
   "metadata": {},
   "outputs": [],
   "source": [
    "s.discard(45)"
   ]
  },
  {
   "cell_type": "code",
   "execution_count": 210,
   "id": "c159e4f7-a5d1-41fa-b05c-5ee254998b07",
   "metadata": {},
   "outputs": [
    {
     "data": {
      "text/plain": [
       "{(1, 2, 3, 4, 5), 3, 6, 7, 8}"
      ]
     },
     "execution_count": 210,
     "metadata": {},
     "output_type": "execute_result"
    }
   ],
   "source": [
    "s"
   ]
  },
  {
   "cell_type": "code",
   "execution_count": 214,
   "id": "13e6666e-33c4-494c-895b-a94204d61386",
   "metadata": {},
   "outputs": [
    {
     "data": {
      "text/plain": [
       "{'Vinay', 'vinay'}"
      ]
     },
     "execution_count": 214,
     "metadata": {},
     "output_type": "execute_result"
    }
   ],
   "source": [
    "{\"vinay\" , \"Vinay\"}"
   ]
  },
  {
   "cell_type": "code",
   "execution_count": 220,
   "id": "d0cbce39-f322-4620-ad66-75ce74afd4dc",
   "metadata": {},
   "outputs": [],
   "source": [
    "s = {2,3,4,5,6,7  ,4,5,6 ,44,3,6,7, \"vinay\", \"vinay\"}"
   ]
  },
  {
   "cell_type": "code",
   "execution_count": 222,
   "id": "30bb873f-5bda-4041-856f-0ad3cd706f09",
   "metadata": {},
   "outputs": [
    {
     "data": {
      "text/plain": [
       "{2, 3, 4, 44, 5, 6, 7, 'vinay'}"
      ]
     },
     "execution_count": 222,
     "metadata": {},
     "output_type": "execute_result"
    }
   ],
   "source": [
    "s"
   ]
  },
  {
   "cell_type": "code",
   "execution_count": 224,
   "id": "8132c054-2370-476a-b684-cd0d7fc75235",
   "metadata": {},
   "outputs": [],
   "source": [
    "l = [3,4,5,6,7]"
   ]
  },
  {
   "cell_type": "code",
   "execution_count": 228,
   "id": "ae070606-42a0-4a9f-8c58-237030afa2ef",
   "metadata": {},
   "outputs": [
    {
     "data": {
      "text/plain": [
       "{3, 4, 5, 6, 7}"
      ]
     },
     "execution_count": 228,
     "metadata": {},
     "output_type": "execute_result"
    }
   ],
   "source": [
    "set(l)"
   ]
  },
  {
   "cell_type": "markdown",
   "id": "86284b1e-86da-4fdc-b42d-fb23632409ab",
   "metadata": {},
   "source": [
    "Dictionary"
   ]
  },
  {
   "cell_type": "code",
   "execution_count": 231,
   "id": "c0a6f8bf-d317-4c14-82d6-06da0f411382",
   "metadata": {},
   "outputs": [],
   "source": [
    "d={}"
   ]
  },
  {
   "cell_type": "code",
   "execution_count": 233,
   "id": "87aec60a-058f-49b9-b290-0b43d4a90900",
   "metadata": {},
   "outputs": [
    {
     "data": {
      "text/plain": [
       "dict"
      ]
     },
     "execution_count": 233,
     "metadata": {},
     "output_type": "execute_result"
    }
   ],
   "source": [
    "type(d)"
   ]
  },
  {
   "cell_type": "code",
   "execution_count": 235,
   "id": "a2080a8d-62c4-48b1-af73-aa7234949d6b",
   "metadata": {},
   "outputs": [],
   "source": [
    "d = {4:\"sudh\"}"
   ]
  },
  {
   "cell_type": "code",
   "execution_count": 255,
   "id": "40b1ed0d-0d95-449c-b906-5f10dea5f3fe",
   "metadata": {},
   "outputs": [],
   "source": [
    "d1 = {\"key1\" : 5445 , \"key2\" : \"sudh\" , 45 : [3,4,5,6]}"
   ]
  },
  {
   "cell_type": "code",
   "execution_count": 241,
   "id": "ea816171-ad9b-4f60-bfa8-14fcec860342",
   "metadata": {},
   "outputs": [],
   "source": [
    "l = [3,4,5,6,7]"
   ]
  },
  {
   "cell_type": "code",
   "execution_count": 243,
   "id": "8411f05d-61e6-4305-8881-9553b75e483c",
   "metadata": {},
   "outputs": [
    {
     "data": {
      "text/plain": [
       "{'Key1': 5445, 'key2': 'sudh', 45: [3, 4, 5, 6]}"
      ]
     },
     "execution_count": 243,
     "metadata": {},
     "output_type": "execute_result"
    }
   ],
   "source": [
    "d1"
   ]
  },
  {
   "cell_type": "code",
   "execution_count": 245,
   "id": "7443d631-ec75-4eb4-b1df-96f8a55889e2",
   "metadata": {},
   "outputs": [
    {
     "data": {
      "text/plain": [
       "3"
      ]
     },
     "execution_count": 245,
     "metadata": {},
     "output_type": "execute_result"
    }
   ],
   "source": [
    "l[0]"
   ]
  },
  {
   "cell_type": "code",
   "execution_count": 257,
   "id": "8f549cfc-9a22-4f41-a8bc-eb909d4dd400",
   "metadata": {},
   "outputs": [
    {
     "data": {
      "text/plain": [
       "5445"
      ]
     },
     "execution_count": 257,
     "metadata": {},
     "output_type": "execute_result"
    }
   ],
   "source": [
    "d1['key1']"
   ]
  },
  {
   "cell_type": "code",
   "execution_count": 259,
   "id": "0b89bf0a-c45a-4423-aa4a-94ee84109e7f",
   "metadata": {},
   "outputs": [
    {
     "data": {
      "text/plain": [
       "[3, 4, 5, 6]"
      ]
     },
     "execution_count": 259,
     "metadata": {},
     "output_type": "execute_result"
    }
   ],
   "source": [
    "d1[45]"
   ]
  },
  {
   "cell_type": "code",
   "execution_count": 261,
   "id": "5c8fac69-5952-4afb-b998-c9f22e5cbf2c",
   "metadata": {},
   "outputs": [],
   "source": [
    "d = {3 : [\"dfsjhb\" , \"ddff\" , 4,5,6,7,8]}"
   ]
  },
  {
   "cell_type": "code",
   "execution_count": 263,
   "id": "35def3c7-0b70-47eb-963a-f2abeb1e92cf",
   "metadata": {},
   "outputs": [
    {
     "ename": "SyntaxError",
     "evalue": "incomplete input (1475994502.py, line 1)",
     "output_type": "error",
     "traceback": [
      "\u001b[0;36m  Cell \u001b[0;32mIn[263], line 1\u001b[0;36m\u001b[0m\n\u001b[0;31m    d = {# : [\"dfsjhb\" , \"ddff\" , 4,5,6,7,8]}\u001b[0m\n\u001b[0m                                             ^\u001b[0m\n\u001b[0;31mSyntaxError\u001b[0m\u001b[0;31m:\u001b[0m incomplete input\n"
     ]
    }
   ],
   "source": [
    "d = {# : [\"dfsjhb\" , \"ddff\" , 4,5,6,7,8]}"
   ]
  },
  {
   "cell_type": "code",
   "execution_count": 265,
   "id": "0a98a499-19f4-43f1-9b94-3141f152d5c8",
   "metadata": {},
   "outputs": [
    {
     "ename": "SyntaxError",
     "evalue": "invalid syntax (1470057382.py, line 1)",
     "output_type": "error",
     "traceback": [
      "\u001b[0;36m  Cell \u001b[0;32mIn[265], line 1\u001b[0;36m\u001b[0m\n\u001b[0;31m    d = {@ : [\"dfsjhb\" , \"ddff\" , 4,5,6,7,8]}\u001b[0m\n\u001b[0m         ^\u001b[0m\n\u001b[0;31mSyntaxError\u001b[0m\u001b[0;31m:\u001b[0m invalid syntax\n"
     ]
    }
   ],
   "source": [
    "d = {@ : [\"dfsjhb\" , \"ddff\" , 4,5,6,7,8]}"
   ]
  },
  {
   "cell_type": "code",
   "execution_count": 267,
   "id": "6c519ce5-561b-41ec-992f-70a3d9a322bc",
   "metadata": {},
   "outputs": [
    {
     "ename": "SyntaxError",
     "evalue": "Invalid star expression (2558881167.py, line 1)",
     "output_type": "error",
     "traceback": [
      "\u001b[0;36m  Cell \u001b[0;32mIn[267], line 1\u001b[0;36m\u001b[0m\n\u001b[0;31m    d = {* : [\"dfsjhb\" , \"ddff\" , 4,5,6,7,8]}\u001b[0m\n\u001b[0m           ^\u001b[0m\n\u001b[0;31mSyntaxError\u001b[0m\u001b[0;31m:\u001b[0m Invalid star expression\n"
     ]
    }
   ],
   "source": [
    "d = {* : [\"dfsjhb\" , \"ddff\" , 4,5,6,7,8]}"
   ]
  },
  {
   "cell_type": "code",
   "execution_count": 277,
   "id": "75dfc8eb-3636-4451-ace4-dff5f9a5189f",
   "metadata": {},
   "outputs": [],
   "source": [
    "d = {_4 : [\"dfsjhb\" , \"ddff\" , 4,5,6,7,8]}"
   ]
  },
  {
   "cell_type": "code",
   "execution_count": 273,
   "id": "9e56ea96-38a8-4c83-8cba-a6cd29cfd04d",
   "metadata": {},
   "outputs": [
    {
     "ename": "SyntaxError",
     "evalue": "invalid syntax (627749493.py, line 1)",
     "output_type": "error",
     "traceback": [
      "\u001b[0;36m  Cell \u001b[0;32mIn[273], line 1\u001b[0;36m\u001b[0m\n\u001b[0;31m    d = {@4 : [\"dfsjhb\" , \"ddff\" , 4,5,6,7,8]}\u001b[0m\n\u001b[0m         ^\u001b[0m\n\u001b[0;31mSyntaxError\u001b[0m\u001b[0;31m:\u001b[0m invalid syntax\n"
     ]
    }
   ],
   "source": [
    "d = {@4 : [\"dfsjhb\" , \"ddff\" , 4,5,6,7,8]}"
   ]
  },
  {
   "cell_type": "code",
   "execution_count": 275,
   "id": "7df0040d-bf0b-4fe3-ac67-ea2d9f324b9e",
   "metadata": {},
   "outputs": [],
   "source": [
    "d = {.4 : [\"dfsjhb\" , \"ddff\" , 4,5,6,7,8]}"
   ]
  },
  {
   "cell_type": "code",
   "execution_count": 279,
   "id": "7bba244b-9a7a-48b0-a1b4-67a34a156997",
   "metadata": {},
   "outputs": [],
   "source": [
    "d = {3 : [\"dfsjhb\" , \"ddff\" , 4,5,6,7,8]}"
   ]
  },
  {
   "cell_type": "code",
   "execution_count": 281,
   "id": "2a37fb16-7773-4d23-9400-4d85482c295b",
   "metadata": {},
   "outputs": [],
   "source": [
    "d = {\"key\" : [\"dfsjhb\" , \"ddff\" , 4,5,6,7,8]}"
   ]
  },
  {
   "cell_type": "code",
   "execution_count": 287,
   "id": "395e3a0c-6b17-4391-b020-261b023d577e",
   "metadata": {},
   "outputs": [],
   "source": [
    "d1 = {\"key 1\": [2,3,4,5,6] , \"key 2\" : \"vinay\" , \"key 3\" : 12345}"
   ]
  },
  {
   "cell_type": "code",
   "execution_count": 289,
   "id": "bfddbf3e-0fe1-4779-9e29-067ac660c4c8",
   "metadata": {},
   "outputs": [],
   "source": [
    "d1 = {\"key 1\": [2,3,4,5,6] , \"key 2\" : \"vinay\" , \"key 1\" : 12345}"
   ]
  },
  {
   "cell_type": "code",
   "execution_count": 291,
   "id": "e9e74ae2-5c24-43ef-906b-d1d21d0f21f6",
   "metadata": {},
   "outputs": [
    {
     "data": {
      "text/plain": [
       "{'key 1': 12345, 'key 2': 'vinay'}"
      ]
     },
     "execution_count": 291,
     "metadata": {},
     "output_type": "execute_result"
    }
   ],
   "source": [
    "d1"
   ]
  },
  {
   "cell_type": "code",
   "execution_count": 295,
   "id": "43b88c09-9781-4083-b211-44bb163fe736",
   "metadata": {},
   "outputs": [
    {
     "data": {
      "text/plain": [
       "12345"
      ]
     },
     "execution_count": 295,
     "metadata": {},
     "output_type": "execute_result"
    }
   ],
   "source": [
    "d1['key 1']"
   ]
  },
  {
   "cell_type": "code",
   "execution_count": 297,
   "id": "d8c50c3b-2b28-48e4-8888-08d934ac3e6f",
   "metadata": {},
   "outputs": [],
   "source": [
    "d1 = {\"key 1\": [2,3,4,5,6] , \"key 2\" : \"vinay\" , \"vinay\" : 12345}"
   ]
  },
  {
   "cell_type": "code",
   "execution_count": 299,
   "id": "528e7a0f-f392-40c0-b67f-bf7635cd1417",
   "metadata": {},
   "outputs": [
    {
     "data": {
      "text/plain": [
       "12345"
      ]
     },
     "execution_count": 299,
     "metadata": {},
     "output_type": "execute_result"
    }
   ],
   "source": [
    "d1[\"vinay\"]"
   ]
  },
  {
   "cell_type": "code",
   "execution_count": 305,
   "id": "b18e5055-f1b8-4045-89db-4aa34fddf65e",
   "metadata": {},
   "outputs": [],
   "source": [
    "d = {\"name\" :  \"vinay\" , \"mo_no\" : 1234567890 , \" mailid\" : \"vinay@gmail.com\", \"key1\" : [2,3,4,5,6], \"key2\" : (2,3,4,5,6), \"key3\" : {3,3,3,3,3,3,3,3,34,4,5,6,7,} , \"key4\" : {3:5, 6:6}}"
   ]
  },
  {
   "cell_type": "code",
   "execution_count": 307,
   "id": "4d47d37d-1885-41f1-a469-3ee49b553dec",
   "metadata": {},
   "outputs": [
    {
     "data": {
      "text/plain": [
       "{'name': 'vinay',\n",
       " 'mo_no': 1234567890,\n",
       " ' mailid': 'vinay@gmail.com',\n",
       " 'key1': [2, 3, 4, 5, 6],\n",
       " 'key2': (2, 3, 4, 5, 6),\n",
       " 'key3': {3, 4, 5, 6, 7, 34},\n",
       " 'key4': {3: 5, 6: 6}}"
      ]
     },
     "execution_count": 307,
     "metadata": {},
     "output_type": "execute_result"
    }
   ],
   "source": [
    "d"
   ]
  },
  {
   "cell_type": "code",
   "execution_count": 309,
   "id": "0bf12cf4-291d-4cb7-a843-41fe4aaeb1fc",
   "metadata": {},
   "outputs": [
    {
     "data": {
      "text/plain": [
       "{3, 4, 5, 6, 7, 34}"
      ]
     },
     "execution_count": 309,
     "metadata": {},
     "output_type": "execute_result"
    }
   ],
   "source": [
    "d[\"key3\"]"
   ]
  },
  {
   "cell_type": "code",
   "execution_count": 311,
   "id": "dfc88ea2-7968-45fc-beb1-cbe34b7e773e",
   "metadata": {},
   "outputs": [
    {
     "data": {
      "text/plain": [
       "set"
      ]
     },
     "execution_count": 311,
     "metadata": {},
     "output_type": "execute_result"
    }
   ],
   "source": [
    "type(d[\"key3\"])"
   ]
  },
  {
   "cell_type": "code",
   "execution_count": 313,
   "id": "24ce4018-5040-431e-9f28-04a6575054e2",
   "metadata": {},
   "outputs": [
    {
     "data": {
      "text/plain": [
       "{3: 5, 6: 6}"
      ]
     },
     "execution_count": 313,
     "metadata": {},
     "output_type": "execute_result"
    }
   ],
   "source": [
    "d[\"key4\"]"
   ]
  },
  {
   "cell_type": "code",
   "execution_count": 315,
   "id": "c778c79b-1975-4c19-8686-efd494f90506",
   "metadata": {},
   "outputs": [
    {
     "data": {
      "text/plain": [
       "6"
      ]
     },
     "execution_count": 315,
     "metadata": {},
     "output_type": "execute_result"
    }
   ],
   "source": [
    "d[\"key4\"] [6]"
   ]
  },
  {
   "cell_type": "code",
   "execution_count": 317,
   "id": "07866396-155c-4998-a3f6-6c4addb09a90",
   "metadata": {},
   "outputs": [
    {
     "data": {
      "text/plain": [
       "dict_keys(['name', 'mo_no', ' mailid', 'key1', 'key2', 'key3', 'key4'])"
      ]
     },
     "execution_count": 317,
     "metadata": {},
     "output_type": "execute_result"
    }
   ],
   "source": [
    "d.keys()"
   ]
  },
  {
   "cell_type": "code",
   "execution_count": 319,
   "id": "d7c62a11-0df6-465c-9a81-cf76e52b972f",
   "metadata": {},
   "outputs": [
    {
     "data": {
      "text/plain": [
       "dict_values(['vinay', 1234567890, 'vinay@gmail.com', [2, 3, 4, 5, 6], (2, 3, 4, 5, 6), {34, 3, 4, 5, 6, 7}, {3: 5, 6: 6}])"
      ]
     },
     "execution_count": 319,
     "metadata": {},
     "output_type": "execute_result"
    }
   ],
   "source": [
    "d.values()"
   ]
  },
  {
   "cell_type": "code",
   "execution_count": 321,
   "id": "c2639fd0-ce7d-48c0-a1e3-d5c65accbd9d",
   "metadata": {},
   "outputs": [
    {
     "data": {
      "text/plain": [
       "dict_items([('name', 'vinay'), ('mo_no', 1234567890), (' mailid', 'vinay@gmail.com'), ('key1', [2, 3, 4, 5, 6]), ('key2', (2, 3, 4, 5, 6)), ('key3', {34, 3, 4, 5, 6, 7}), ('key4', {3: 5, 6: 6})])"
      ]
     },
     "execution_count": 321,
     "metadata": {},
     "output_type": "execute_result"
    }
   ],
   "source": [
    "d.items()"
   ]
  },
  {
   "cell_type": "code",
   "execution_count": 323,
   "id": "b298aca4-ec40-47cb-819b-7d1169b9a16b",
   "metadata": {},
   "outputs": [
    {
     "data": {
      "text/plain": [
       "dict_items"
      ]
     },
     "execution_count": 323,
     "metadata": {},
     "output_type": "execute_result"
    }
   ],
   "source": [
    "type(d.items())\n"
   ]
  },
  {
   "cell_type": "code",
   "execution_count": 327,
   "id": "7191b6f1-5bdd-4cc3-b8ac-2db915f835f6",
   "metadata": {},
   "outputs": [],
   "source": [
    "d = {\"key1\" : \"vinay\" , \"key2\": [1,2,3,4,5] }"
   ]
  },
  {
   "cell_type": "code",
   "execution_count": 332,
   "id": "2796556b-5050-474d-b431-dafb927abdcc",
   "metadata": {},
   "outputs": [],
   "source": [
    "d[\"key3\"] = \"kumar\""
   ]
  },
  {
   "cell_type": "code",
   "execution_count": 334,
   "id": "751297fa-add0-4d87-95c5-8eb1d20127c3",
   "metadata": {},
   "outputs": [
    {
     "data": {
      "text/plain": [
       "{'key1': 'vinay', 'key2': [1, 2, 3, 4, 5], 'key3': 'kumar'}"
      ]
     },
     "execution_count": 334,
     "metadata": {},
     "output_type": "execute_result"
    }
   ],
   "source": [
    "d"
   ]
  },
  {
   "cell_type": "code",
   "execution_count": 340,
   "id": "6b874414-4856-4388-b375-fbdbab11ad67",
   "metadata": {},
   "outputs": [],
   "source": [
    "d[4] = [2,3,4,5,6,]"
   ]
  },
  {
   "cell_type": "code",
   "execution_count": 342,
   "id": "9c37527c-8b7c-4ccc-9566-3a289b087b7c",
   "metadata": {},
   "outputs": [
    {
     "data": {
      "text/plain": [
       "{'key1': 'vinay', 'key2': [1, 2, 3, 4, 5], 'key3': 'kumar', 4: [2, 3, 4, 5, 6]}"
      ]
     },
     "execution_count": 342,
     "metadata": {},
     "output_type": "execute_result"
    }
   ],
   "source": [
    "d"
   ]
  },
  {
   "cell_type": "code",
   "execution_count": 344,
   "id": "8322a01e-6c2f-4da7-8c94-4b74e9c0f22b",
   "metadata": {},
   "outputs": [],
   "source": [
    "d[\"key1\"] = \"fghjk\""
   ]
  },
  {
   "cell_type": "code",
   "execution_count": 346,
   "id": "7b25db85-43fd-4c4d-afd2-8de283954482",
   "metadata": {},
   "outputs": [
    {
     "data": {
      "text/plain": [
       "{'key1': 'fghjk', 'key2': [1, 2, 3, 4, 5], 'key3': 'kumar', 4: [2, 3, 4, 5, 6]}"
      ]
     },
     "execution_count": 346,
     "metadata": {},
     "output_type": "execute_result"
    }
   ],
   "source": [
    "d"
   ]
  },
  {
   "cell_type": "code",
   "execution_count": 348,
   "id": "c47c8b05-a67a-4475-ae41-c967da792dfa",
   "metadata": {},
   "outputs": [],
   "source": [
    "del d[\"key1\"]"
   ]
  },
  {
   "cell_type": "code",
   "execution_count": 350,
   "id": "1ef31382-29e9-46e4-bac3-e3d9f045a6ec",
   "metadata": {},
   "outputs": [
    {
     "data": {
      "text/plain": [
       "{'key2': [1, 2, 3, 4, 5], 'key3': 'kumar', 4: [2, 3, 4, 5, 6]}"
      ]
     },
     "execution_count": 350,
     "metadata": {},
     "output_type": "execute_result"
    }
   ],
   "source": [
    "d"
   ]
  },
  {
   "cell_type": "code",
   "execution_count": 352,
   "id": "2e01d9bc-8510-4047-8743-6a6066441301",
   "metadata": {},
   "outputs": [],
   "source": [
    "del d"
   ]
  },
  {
   "cell_type": "code",
   "execution_count": 354,
   "id": "0eff3baf-91d7-4f15-b7d4-d014c02d4190",
   "metadata": {},
   "outputs": [
    {
     "ename": "NameError",
     "evalue": "name 'd' is not defined",
     "output_type": "error",
     "traceback": [
      "\u001b[0;31m---------------------------------------------------------------------------\u001b[0m",
      "\u001b[0;31mNameError\u001b[0m                                 Traceback (most recent call last)",
      "Cell \u001b[0;32mIn[354], line 1\u001b[0m\n\u001b[0;32m----> 1\u001b[0m d\n",
      "\u001b[0;31mNameError\u001b[0m: name 'd' is not defined"
     ]
    }
   ],
   "source": [
    "d"
   ]
  },
  {
   "cell_type": "code",
   "execution_count": 356,
   "id": "81ffb1bd-39a4-4769-afcd-45ac5a824824",
   "metadata": {},
   "outputs": [],
   "source": [
    "d1 = {\"key1\": \"vinay\" , \"key2\" : [1,2,3,4,5]}"
   ]
  },
  {
   "cell_type": "code",
   "execution_count": 358,
   "id": "51c32351-b58f-43a9-943b-f73bfd64e40c",
   "metadata": {},
   "outputs": [
    {
     "ename": "TypeError",
     "evalue": "unhashable type: 'list'",
     "output_type": "error",
     "traceback": [
      "\u001b[0;31m---------------------------------------------------------------------------\u001b[0m",
      "\u001b[0;31mTypeError\u001b[0m                                 Traceback (most recent call last)",
      "Cell \u001b[0;32mIn[358], line 1\u001b[0m\n\u001b[0;32m----> 1\u001b[0m d1 [[\u001b[38;5;241m1\u001b[39m,\u001b[38;5;241m2\u001b[39m,\u001b[38;5;241m3\u001b[39m,\u001b[38;5;241m4\u001b[39m]] \u001b[38;5;241m=\u001b[39m \u001b[38;5;124m\"\u001b[39m\u001b[38;5;124m ineuron\u001b[39m\u001b[38;5;124m\"\u001b[39m\n",
      "\u001b[0;31mTypeError\u001b[0m: unhashable type: 'list'"
     ]
    }
   ],
   "source": [
    "d1 [[1,2,3,4]] = \" ineuron\""
   ]
  },
  {
   "cell_type": "code",
   "execution_count": 360,
   "id": "df7f02ca-2ae2-412a-b73a-980f9e2b2e3f",
   "metadata": {},
   "outputs": [],
   "source": [
    "d1 [(1,2,3,4)] = \" ineuron\""
   ]
  },
  {
   "cell_type": "code",
   "execution_count": 362,
   "id": "70cad5e4-0bdb-4c18-b93c-756369f65032",
   "metadata": {},
   "outputs": [
    {
     "data": {
      "text/plain": [
       "{'key1': 'vinay', 'key2': [1, 2, 3, 4, 5], (1, 2, 3, 4): ' ineuron'}"
      ]
     },
     "execution_count": 362,
     "metadata": {},
     "output_type": "execute_result"
    }
   ],
   "source": [
    "d1"
   ]
  },
  {
   "cell_type": "code",
   "execution_count": 364,
   "id": "7520400b-da2f-4ea0-a5e6-6469eaa4a135",
   "metadata": {},
   "outputs": [
    {
     "data": {
      "text/plain": [
       "{'key1': 'vinay', 'key2': [1, 2, 3, 4, 5], (1, 2, 3, 4): ' ineuron'}"
      ]
     },
     "execution_count": 364,
     "metadata": {},
     "output_type": "execute_result"
    }
   ],
   "source": [
    "d1 "
   ]
  },
  {
   "cell_type": "code",
   "execution_count": 366,
   "id": "99dabb2a-b581-4ad2-9ef1-3963bbff5d0a",
   "metadata": {},
   "outputs": [],
   "source": [
    "d1.get(\"dfg\")"
   ]
  },
  {
   "cell_type": "code",
   "execution_count": 368,
   "id": "2c90f043-29b0-488e-a283-0ea71ce77ee9",
   "metadata": {},
   "outputs": [
    {
     "data": {
      "text/plain": [
       "'vinay'"
      ]
     },
     "execution_count": 368,
     "metadata": {},
     "output_type": "execute_result"
    }
   ],
   "source": [
    "d1.get(\"key1\")"
   ]
  },
  {
   "cell_type": "code",
   "execution_count": 385,
   "id": "b37dd4a4-eb5c-4aa6-9743-b0dfca9be24b",
   "metadata": {},
   "outputs": [],
   "source": [
    "d1 = {\"key1\" : \"ineuron\" , \"key\": \"FSDS\"}"
   ]
  },
  {
   "cell_type": "code",
   "execution_count": 387,
   "id": "6620f047-67ee-4841-b8a4-0b6b26fb3d0a",
   "metadata": {},
   "outputs": [],
   "source": [
    "d2 = {\"key2\" : 456, \"key3\" : [1,2,3,4,5] }"
   ]
  },
  {
   "cell_type": "code",
   "execution_count": 389,
   "id": "8f453ea5-6e8b-4ad9-b743-9671ed453604",
   "metadata": {},
   "outputs": [],
   "source": [
    "d1.update(d2)"
   ]
  },
  {
   "cell_type": "code",
   "execution_count": 391,
   "id": "8bd3665d-9631-4ebb-b0c1-35090d10e8e1",
   "metadata": {},
   "outputs": [
    {
     "data": {
      "text/plain": [
       "{'key1': 'ineuron', 'key': 'FSDS', 'key2': 456, 'key3': [1, 2, 3, 4, 5]}"
      ]
     },
     "execution_count": 391,
     "metadata": {},
     "output_type": "execute_result"
    }
   ],
   "source": [
    "d1"
   ]
  },
  {
   "cell_type": "code",
   "execution_count": 393,
   "id": "5e803a7f-df07-4bbc-b3d7-eb9e8bdd467f",
   "metadata": {},
   "outputs": [
    {
     "data": {
      "text/plain": [
       "{'key2': 456, 'key3': [1, 2, 3, 4, 5]}"
      ]
     },
     "execution_count": 393,
     "metadata": {},
     "output_type": "execute_result"
    }
   ],
   "source": [
    "d2"
   ]
  },
  {
   "cell_type": "code",
   "execution_count": 395,
   "id": "e8549da5-7c72-47bf-b0b3-62785fb0dc34",
   "metadata": {},
   "outputs": [
    {
     "ename": "TypeError",
     "evalue": "unsupported operand type(s) for +: 'dict' and 'dict'",
     "output_type": "error",
     "traceback": [
      "\u001b[0;31m---------------------------------------------------------------------------\u001b[0m",
      "\u001b[0;31mTypeError\u001b[0m                                 Traceback (most recent call last)",
      "Cell \u001b[0;32mIn[395], line 1\u001b[0m\n\u001b[0;32m----> 1\u001b[0m d1\u001b[38;5;241m+\u001b[39md2\n",
      "\u001b[0;31mTypeError\u001b[0m: unsupported operand type(s) for +: 'dict' and 'dict'"
     ]
    }
   ],
   "source": [
    "d1+d2"
   ]
  },
  {
   "cell_type": "code",
   "execution_count": 397,
   "id": "55bcb540-c874-4de3-a824-995bd0d5e755",
   "metadata": {},
   "outputs": [
    {
     "ename": "NameError",
     "evalue": "name 'true' is not defined",
     "output_type": "error",
     "traceback": [
      "\u001b[0;31m---------------------------------------------------------------------------\u001b[0m",
      "\u001b[0;31mNameError\u001b[0m                                 Traceback (most recent call last)",
      "Cell \u001b[0;32mIn[397], line 1\u001b[0m\n\u001b[0;32m----> 1\u001b[0m t1\u001b[38;5;241m.\u001b[39mindex(true)\n",
      "\u001b[0;31mNameError\u001b[0m: name 'true' is not defined"
     ]
    }
   ],
   "source": [
    "t1.index(true)"
   ]
  },
  {
   "cell_type": "code",
   "execution_count": 409,
   "id": "97f79bff-3688-496e-a4b1-64d7329fe8ac",
   "metadata": {},
   "outputs": [
    {
     "ename": "SyntaxError",
     "evalue": "incomplete input (1351486105.py, line 1)",
     "output_type": "error",
     "traceback": [
      "\u001b[0;36m  Cell \u001b[0;32mIn[409], line 1\u001b[0;36m\u001b[0m\n\u001b[0;31m    d = d1.fromkeys(key\u001b[0m\n\u001b[0m                       ^\u001b[0m\n\u001b[0;31mSyntaxError\u001b[0m\u001b[0;31m:\u001b[0m incomplete input\n"
     ]
    }
   ],
   "source": [
    "d = d1.fromkeys(key"
   ]
  },
  {
   "cell_type": "code",
   "execution_count": 413,
   "id": "8afee46e-e1ed-4b5e-a375-2f634a421d99",
   "metadata": {},
   "outputs": [],
   "source": [
    "key = (\"name\" , \"mobile_no\" , \"email_id\")\n",
    "value = \"vinay\""
   ]
  },
  {
   "cell_type": "code",
   "execution_count": 417,
   "id": "93331afe-1c1c-4428-a033-40da76d196d3",
   "metadata": {},
   "outputs": [],
   "source": [
    "d = d1.fromkeys(key,value)"
   ]
  },
  {
   "cell_type": "code",
   "execution_count": 419,
   "id": "3aff4942-80da-4e04-8832-c0e18000dfff",
   "metadata": {},
   "outputs": [
    {
     "data": {
      "text/plain": [
       "{'name': 'vinay', 'mobile_no': 'vinay', 'email_id': 'vinay'}"
      ]
     },
     "execution_count": 419,
     "metadata": {},
     "output_type": "execute_result"
    }
   ],
   "source": [
    "d"
   ]
  }
 ],
 "metadata": {
  "kernelspec": {
   "display_name": "Python [conda env:base] *",
   "language": "python",
   "name": "conda-base-py"
  },
  "language_info": {
   "codemirror_mode": {
    "name": "ipython",
    "version": 3
   },
   "file_extension": ".py",
   "mimetype": "text/x-python",
   "name": "python",
   "nbconvert_exporter": "python",
   "pygments_lexer": "ipython3",
   "version": "3.12.7"
  }
 },
 "nbformat": 4,
 "nbformat_minor": 5
}
